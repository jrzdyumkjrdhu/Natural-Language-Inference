{
 "cells": [
  {
   "cell_type": "code",
   "execution_count": 1,
   "metadata": {
    "_cell_guid": "20666a1f-e31b-4134-94f8-fea9a50998d3",
    "_uuid": "d3a20929-8e1d-48d2-869c-cc57f8c63cc9",
    "execution": {
     "iopub.execute_input": "2020-12-08T20:55:14.714707Z",
     "iopub.status.busy": "2020-12-08T20:55:14.713761Z",
     "iopub.status.idle": "2020-12-08T20:55:14.719237Z",
     "shell.execute_reply": "2020-12-08T20:55:14.718529Z"
    },
    "papermill": {
     "duration": 0.031985,
     "end_time": "2020-12-08T20:55:14.719381",
     "exception": false,
     "start_time": "2020-12-08T20:55:14.687396",
     "status": "completed"
    },
    "tags": []
   },
   "outputs": [
    {
     "name": "stdout",
     "output_type": "stream",
     "text": [
      "/kaggle/input/contradictory-my-dear-watson/sample_submission.csv\n",
      "/kaggle/input/contradictory-my-dear-watson/train.csv\n",
      "/kaggle/input/contradictory-my-dear-watson/test.csv\n"
     ]
    }
   ],
   "source": [
    "# This Python 3 environment comes with many helpful analytics libraries installed\n",
    "# It is defined by the kaggle/python Docker image: https://github.com/kaggle/docker-python\n",
    "# For example, here's several helpful packages to load\n",
    "\n",
    "import numpy as np # linear algebra\n",
    "import pandas as pd # data processing, CSV file I/O (e.g. pd.read_csv)\n",
    "\n",
    "# Input data files are available in the read-only \"../input/\" directory\n",
    "# For example, running this (by clicking run or pressing Shift+Enter) will list all files under the input directory\n",
    "\n",
    "import os\n",
    "for dirname, _, filenames in os.walk('/kaggle/input'):\n",
    "    for filename in filenames:\n",
    "        print(os.path.join(dirname, filename))\n",
    "\n",
    "# You can write up to 5GB to the current directory (/kaggle/working/) that gets preserved as output when you create a version using \"Save & Run All\" \n",
    "# You can also write temporary files to /kaggle/temp/, but they won't be saved outside of the current session"
   ]
  },
  {
   "cell_type": "code",
   "execution_count": 2,
   "metadata": {
    "execution": {
     "iopub.execute_input": "2020-12-08T20:55:14.764050Z",
     "iopub.status.busy": "2020-12-08T20:55:14.762995Z",
     "iopub.status.idle": "2020-12-08T20:55:14.766352Z",
     "shell.execute_reply": "2020-12-08T20:55:14.765598Z"
    },
    "papermill": {
     "duration": 0.027007,
     "end_time": "2020-12-08T20:55:14.766484",
     "exception": false,
     "start_time": "2020-12-08T20:55:14.739477",
     "status": "completed"
    },
    "tags": []
   },
   "outputs": [],
   "source": [
    "os.environ[\"WANDB_API_KEY\"] = \"0\" ## to silence warning"
   ]
  },
  {
   "cell_type": "code",
   "execution_count": 3,
   "metadata": {
    "_cell_guid": "863de620-d4b7-4711-b587-e1c75be9e36f",
    "_uuid": "e3dd507b-c502-488c-9dd0-419c5d73c159",
    "execution": {
     "iopub.execute_input": "2020-12-08T20:55:14.810529Z",
     "iopub.status.busy": "2020-12-08T20:55:14.809668Z",
     "iopub.status.idle": "2020-12-08T20:55:25.384187Z",
     "shell.execute_reply": "2020-12-08T20:55:25.383334Z"
    },
    "papermill": {
     "duration": 10.598749,
     "end_time": "2020-12-08T20:55:25.384319",
     "exception": false,
     "start_time": "2020-12-08T20:55:14.785570",
     "status": "completed"
    },
    "tags": []
   },
   "outputs": [],
   "source": [
    "from transformers import BertTokenizer, TFBertModel\n",
    "import matplotlib.pyplot as plt\n",
    "import tensorflow as tf"
   ]
  },
  {
   "cell_type": "code",
   "execution_count": 4,
   "metadata": {
    "_cell_guid": "ca2729e3-9275-4a9c-b150-592320bd3e54",
    "_uuid": "386d0823-63ab-4765-9561-32c5f382e71d",
    "execution": {
     "iopub.execute_input": "2020-12-08T20:55:25.548100Z",
     "iopub.status.busy": "2020-12-08T20:55:25.529531Z",
     "iopub.status.idle": "2020-12-08T20:55:29.544560Z",
     "shell.execute_reply": "2020-12-08T20:55:29.543660Z"
    },
    "papermill": {
     "duration": 4.14108,
     "end_time": "2020-12-08T20:55:29.544702",
     "exception": false,
     "start_time": "2020-12-08T20:55:25.403622",
     "status": "completed"
    },
    "tags": []
   },
   "outputs": [],
   "source": [
    "try:\n",
    "    tpu = tf.distribute.cluster_resolver.TPUClusterResolver()\n",
    "    tf.config.experimental_connect_to_cluster(tpu)\n",
    "    tf.tpu.experimental.initialize_tpu_system(tpu)\n",
    "    strategy = tf.distribute.experimental.TPUStrategy(tpu)\n",
    "except ValueError:\n",
    "    strategy = tf.distribute.get_strategy() # for CPU and single GPU\n",
    "    print('Number of replicas:', strategy.num_replicas_in_sync)"
   ]
  },
  {
   "cell_type": "markdown",
   "metadata": {
    "_cell_guid": "44a1d22f-053c-4188-b25f-d714aa745016",
    "_uuid": "0b64130f-530a-4560-8afd-462a55fc14b3",
    "papermill": {
     "duration": 0.018861,
     "end_time": "2020-12-08T20:55:29.583301",
     "exception": false,
     "start_time": "2020-12-08T20:55:29.564440",
     "status": "completed"
    },
    "tags": []
   },
   "source": [
    "## Downloading Data"
   ]
  },
  {
   "cell_type": "code",
   "execution_count": 5,
   "metadata": {
    "_cell_guid": "f3ad567b-a156-4ffc-a6f8-1f5e6e989a4e",
    "_uuid": "6e60d19f-aeae-417a-a10a-50cc1d5ee685",
    "execution": {
     "iopub.execute_input": "2020-12-08T20:55:29.631517Z",
     "iopub.status.busy": "2020-12-08T20:55:29.630738Z",
     "iopub.status.idle": "2020-12-08T20:55:29.731492Z",
     "shell.execute_reply": "2020-12-08T20:55:29.730695Z"
    },
    "papermill": {
     "duration": 0.129009,
     "end_time": "2020-12-08T20:55:29.731641",
     "exception": false,
     "start_time": "2020-12-08T20:55:29.602632",
     "status": "completed"
    },
    "tags": []
   },
   "outputs": [],
   "source": [
    "train = pd.read_csv(\"../input/contradictory-my-dear-watson/train.csv\")"
   ]
  },
  {
   "cell_type": "code",
   "execution_count": 6,
   "metadata": {
    "_cell_guid": "7d9b43ef-4ac1-40d5-aebc-a162f1b9a6c0",
    "_uuid": "7243f511-d81e-436c-971f-6328b7c0cf43",
    "execution": {
     "iopub.execute_input": "2020-12-08T20:55:29.793189Z",
     "iopub.status.busy": "2020-12-08T20:55:29.792172Z",
     "iopub.status.idle": "2020-12-08T20:55:29.795426Z",
     "shell.execute_reply": "2020-12-08T20:55:29.794742Z"
    },
    "papermill": {
     "duration": 0.044279,
     "end_time": "2020-12-08T20:55:29.795566",
     "exception": false,
     "start_time": "2020-12-08T20:55:29.751287",
     "status": "completed"
    },
    "tags": []
   },
   "outputs": [],
   "source": [
    "labels, frequencies = np.unique(train.language.values, return_counts = True)"
   ]
  },
  {
   "cell_type": "code",
   "execution_count": 7,
   "metadata": {
    "_cell_guid": "ddc3e65e-24a4-43dc-98f0-194655d17cfd",
    "_uuid": "0af7b876-e719-474a-b6a5-fef500624b83",
    "execution": {
     "iopub.execute_input": "2020-12-08T20:55:29.846113Z",
     "iopub.status.busy": "2020-12-08T20:55:29.844981Z",
     "iopub.status.idle": "2020-12-08T20:55:31.619357Z",
     "shell.execute_reply": "2020-12-08T20:55:31.618599Z"
    },
    "papermill": {
     "duration": 1.801747,
     "end_time": "2020-12-08T20:55:31.619497",
     "exception": false,
     "start_time": "2020-12-08T20:55:29.817750",
     "status": "completed"
    },
    "tags": []
   },
   "outputs": [
    {
     "data": {
      "application/vnd.jupyter.widget-view+json": {
       "model_id": "76385d701ead48b183c71738d9b07554",
       "version_major": 2,
       "version_minor": 0
      },
      "text/plain": [
       "HBox(children=(FloatProgress(value=0.0, description='Downloading', max=995526.0, style=ProgressStyle(descripti…"
      ]
     },
     "metadata": {},
     "output_type": "display_data"
    },
    {
     "name": "stdout",
     "output_type": "stream",
     "text": [
      "\n"
     ]
    }
   ],
   "source": [
    "model_name = 'bert-base-multilingual-cased'\n",
    "tokenizer = BertTokenizer.from_pretrained(model_name)"
   ]
  },
  {
   "cell_type": "code",
   "execution_count": 8,
   "metadata": {
    "_cell_guid": "55838dc3-c459-4097-b5b2-44d049429e25",
    "_uuid": "2cd597c4-6204-44ba-869a-fbf7c32c711d",
    "execution": {
     "iopub.execute_input": "2020-12-08T20:55:31.669525Z",
     "iopub.status.busy": "2020-12-08T20:55:31.668431Z",
     "iopub.status.idle": "2020-12-08T20:55:31.671982Z",
     "shell.execute_reply": "2020-12-08T20:55:31.671188Z"
    },
    "papermill": {
     "duration": 0.031341,
     "end_time": "2020-12-08T20:55:31.672116",
     "exception": false,
     "start_time": "2020-12-08T20:55:31.640775",
     "status": "completed"
    },
    "tags": []
   },
   "outputs": [],
   "source": [
    "def encode_sentence(s):\n",
    "   tokens = list(tokenizer.tokenize(s))\n",
    "   tokens.append('[SEP]')\n",
    "   return tokenizer.convert_tokens_to_ids(tokens)"
   ]
  },
  {
   "cell_type": "code",
   "execution_count": 9,
   "metadata": {
    "_cell_guid": "037b0a29-3e6d-42b6-b13a-328fab19d15d",
    "_uuid": "dedb18d0-63cb-492b-8fe0-b4ebb8819e4c",
    "execution": {
     "iopub.execute_input": "2020-12-08T20:55:31.728174Z",
     "iopub.status.busy": "2020-12-08T20:55:31.727172Z",
     "iopub.status.idle": "2020-12-08T20:55:31.730351Z",
     "shell.execute_reply": "2020-12-08T20:55:31.729701Z"
    },
    "papermill": {
     "duration": 0.037214,
     "end_time": "2020-12-08T20:55:31.730488",
     "exception": false,
     "start_time": "2020-12-08T20:55:31.693274",
     "status": "completed"
    },
    "tags": []
   },
   "outputs": [],
   "source": [
    "def bert_encode(hypotheses, premises, tokenizer):\n",
    "    \n",
    "  num_examples = len(hypotheses)\n",
    "  \n",
    "  sentence1 = tf.ragged.constant([\n",
    "      encode_sentence(s)\n",
    "      for s in np.array(hypotheses)])\n",
    "  sentence2 = tf.ragged.constant([\n",
    "      encode_sentence(s)\n",
    "       for s in np.array(premises)])\n",
    "\n",
    "  cls = [tokenizer.convert_tokens_to_ids(['[CLS]'])]*sentence1.shape[0]\n",
    "  input_word_ids = tf.concat([cls, sentence1, sentence2], axis=-1)\n",
    "\n",
    "  input_mask = tf.ones_like(input_word_ids).to_tensor()\n",
    "\n",
    "  type_cls = tf.zeros_like(cls)\n",
    "  type_s1 = tf.zeros_like(sentence1)\n",
    "  type_s2 = tf.ones_like(sentence2)\n",
    "  input_type_ids = tf.concat(\n",
    "      [type_cls, type_s1, type_s2], axis=-1).to_tensor()\n",
    "\n",
    "  inputs = {\n",
    "      'input_word_ids': input_word_ids.to_tensor(),\n",
    "      'input_mask': input_mask,\n",
    "      'input_type_ids': input_type_ids}\n",
    "\n",
    "  return inputs"
   ]
  },
  {
   "cell_type": "code",
   "execution_count": 10,
   "metadata": {
    "_cell_guid": "fc14d779-d0c6-4585-8e80-ebf539bd132c",
    "_uuid": "697579c5-9f89-421c-8cbc-4321a7c93179",
    "execution": {
     "iopub.execute_input": "2020-12-08T20:55:31.794761Z",
     "iopub.status.busy": "2020-12-08T20:55:31.784228Z",
     "iopub.status.idle": "2020-12-08T20:55:50.267325Z",
     "shell.execute_reply": "2020-12-08T20:55:50.263812Z"
    },
    "papermill": {
     "duration": 18.515813,
     "end_time": "2020-12-08T20:55:50.267623",
     "exception": false,
     "start_time": "2020-12-08T20:55:31.751810",
     "status": "completed"
    },
    "tags": []
   },
   "outputs": [],
   "source": [
    "train_input = bert_encode(train.premise.values, train.hypothesis.values, tokenizer)"
   ]
  },
  {
   "cell_type": "markdown",
   "metadata": {
    "_cell_guid": "3dbd7066-6469-4823-8e09-e2dfa0a68bcc",
    "_uuid": "e1bf9ee4-e872-45d8-a118-a72eb7917d8b",
    "papermill": {
     "duration": 0.02925,
     "end_time": "2020-12-08T20:55:50.335358",
     "exception": false,
     "start_time": "2020-12-08T20:55:50.306108",
     "status": "completed"
    },
    "tags": []
   },
   "source": [
    "## Creating & Training Model"
   ]
  },
  {
   "cell_type": "code",
   "execution_count": 11,
   "metadata": {
    "_cell_guid": "69f90af1-4d66-4b83-a264-df23a3a68e26",
    "_uuid": "1094f3ff-6b5b-4b15-9d93-b0065ae586bd",
    "execution": {
     "iopub.execute_input": "2020-12-08T20:55:50.408736Z",
     "iopub.status.busy": "2020-12-08T20:55:50.407017Z",
     "iopub.status.idle": "2020-12-08T20:55:50.411446Z",
     "shell.execute_reply": "2020-12-08T20:55:50.410726Z"
    },
    "papermill": {
     "duration": 0.048484,
     "end_time": "2020-12-08T20:55:50.411586",
     "exception": false,
     "start_time": "2020-12-08T20:55:50.363102",
     "status": "completed"
    },
    "tags": []
   },
   "outputs": [],
   "source": [
    "max_len = 50\n",
    "\n",
    "def build_model():\n",
    "    bert_encoder = TFBertModel.from_pretrained(model_name)\n",
    "    input_word_ids = tf.keras.Input(shape=(max_len,), dtype=tf.int32, name=\"input_word_ids\")\n",
    "    input_mask = tf.keras.Input(shape=(max_len,), dtype=tf.int32, name=\"input_mask\")\n",
    "    input_type_ids = tf.keras.Input(shape=(max_len,), dtype=tf.int32, name=\"input_type_ids\")\n",
    "    \n",
    "    embedding = bert_encoder([input_word_ids, input_mask, input_type_ids])[0]\n",
    "    output = tf.keras.layers.Dense(3, activation='softmax')(embedding[:,0,:])\n",
    "    \n",
    "    model = tf.keras.Model(inputs=[input_word_ids, input_mask, input_type_ids], outputs=output)\n",
    "    model.compile(tf.keras.optimizers.Adam(lr=1e-5), loss='sparse_categorical_crossentropy', metrics=['accuracy'])\n",
    "    \n",
    "    return model"
   ]
  },
  {
   "cell_type": "code",
   "execution_count": 12,
   "metadata": {
    "_cell_guid": "97885b33-70f1-4d14-b788-fd1a650d5a57",
    "_uuid": "47c8cc2f-a7b9-4bae-971b-e41277b45c8b",
    "execution": {
     "iopub.execute_input": "2020-12-08T20:55:50.466096Z",
     "iopub.status.busy": "2020-12-08T20:55:50.464957Z",
     "iopub.status.idle": "2020-12-08T20:57:07.912817Z",
     "shell.execute_reply": "2020-12-08T20:57:07.913554Z"
    },
    "papermill": {
     "duration": 77.478912,
     "end_time": "2020-12-08T20:57:07.913745",
     "exception": false,
     "start_time": "2020-12-08T20:55:50.434833",
     "status": "completed"
    },
    "tags": []
   },
   "outputs": [
    {
     "data": {
      "application/vnd.jupyter.widget-view+json": {
       "model_id": "7fceb755908a43f7838e67c360eb39e7",
       "version_major": 2,
       "version_minor": 0
      },
      "text/plain": [
       "HBox(children=(FloatProgress(value=0.0, description='Downloading', max=625.0, style=ProgressStyle(description_…"
      ]
     },
     "metadata": {},
     "output_type": "display_data"
    },
    {
     "name": "stdout",
     "output_type": "stream",
     "text": [
      "\n"
     ]
    },
    {
     "data": {
      "application/vnd.jupyter.widget-view+json": {
       "model_id": "bc593e5bfff549da9509c0585f528722",
       "version_major": 2,
       "version_minor": 0
      },
      "text/plain": [
       "HBox(children=(FloatProgress(value=0.0, description='Downloading', max=1083389348.0, style=ProgressStyle(descr…"
      ]
     },
     "metadata": {},
     "output_type": "display_data"
    },
    {
     "name": "stdout",
     "output_type": "stream",
     "text": [
      "\n",
      "Model: \"model\"\n",
      "__________________________________________________________________________________________________\n",
      "Layer (type)                    Output Shape         Param #     Connected to                     \n",
      "==================================================================================================\n",
      "input_word_ids (InputLayer)     [(None, 50)]         0                                            \n",
      "__________________________________________________________________________________________________\n",
      "input_mask (InputLayer)         [(None, 50)]         0                                            \n",
      "__________________________________________________________________________________________________\n",
      "input_type_ids (InputLayer)     [(None, 50)]         0                                            \n",
      "__________________________________________________________________________________________________\n",
      "tf_bert_model (TFBertModel)     ((None, 50, 768), (N 177853440   input_word_ids[0][0]             \n",
      "                                                                 input_mask[0][0]                 \n",
      "                                                                 input_type_ids[0][0]             \n",
      "__________________________________________________________________________________________________\n",
      "tf_op_layer_strided_slice (Tens [(None, 768)]        0           tf_bert_model[0][0]              \n",
      "__________________________________________________________________________________________________\n",
      "dense (Dense)                   (None, 3)            2307        tf_op_layer_strided_slice[0][0]  \n",
      "==================================================================================================\n",
      "Total params: 177,855,747\n",
      "Trainable params: 177,855,747\n",
      "Non-trainable params: 0\n",
      "__________________________________________________________________________________________________\n"
     ]
    }
   ],
   "source": [
    "with strategy.scope():\n",
    "    model = build_model()\n",
    "    model.summary()"
   ]
  },
  {
   "cell_type": "code",
   "execution_count": 13,
   "metadata": {
    "_cell_guid": "0423d993-8ff5-4ab9-bc47-87e1cb74c0c5",
    "_uuid": "316f4376-9df7-40ea-bbbd-ae46eb5562e5",
    "execution": {
     "iopub.execute_input": "2020-12-08T20:57:07.972270Z",
     "iopub.status.busy": "2020-12-08T20:57:07.971336Z",
     "iopub.status.idle": "2020-12-08T21:02:58.140464Z",
     "shell.execute_reply": "2020-12-08T21:02:58.139629Z"
    },
    "papermill": {
     "duration": 350.202149,
     "end_time": "2020-12-08T21:02:58.140606",
     "exception": false,
     "start_time": "2020-12-08T20:57:07.938457",
     "status": "completed"
    },
    "tags": []
   },
   "outputs": [
    {
     "name": "stdout",
     "output_type": "stream",
     "text": [
      "Epoch 1/10\n",
      "38/38 [==============================] - 108s 3s/step - loss: 1.0890 - accuracy: 0.4124 - val_loss: 0.9870 - val_accuracy: 0.5215\n",
      "Epoch 2/10\n",
      "38/38 [==============================] - 15s 401ms/step - loss: 0.9182 - accuracy: 0.5747 - val_loss: 0.8739 - val_accuracy: 0.5949\n",
      "Epoch 3/10\n",
      "38/38 [==============================] - 15s 399ms/step - loss: 0.7900 - accuracy: 0.6556 - val_loss: 0.8315 - val_accuracy: 0.6242\n",
      "Epoch 4/10\n",
      "38/38 [==============================] - 15s 398ms/step - loss: 0.6935 - accuracy: 0.7077 - val_loss: 0.8461 - val_accuracy: 0.6271\n",
      "Epoch 5/10\n",
      "38/38 [==============================] - 15s 398ms/step - loss: 0.6038 - accuracy: 0.7470 - val_loss: 0.8400 - val_accuracy: 0.6295\n",
      "Epoch 6/10\n",
      "38/38 [==============================] - 15s 399ms/step - loss: 0.5070 - accuracy: 0.7966 - val_loss: 0.9406 - val_accuracy: 0.6337\n",
      "Epoch 7/10\n",
      "38/38 [==============================] - 15s 402ms/step - loss: 0.4251 - accuracy: 0.8357 - val_loss: 1.0279 - val_accuracy: 0.6349\n",
      "Epoch 8/10\n",
      "38/38 [==============================] - 15s 400ms/step - loss: 0.3487 - accuracy: 0.8655 - val_loss: 1.1537 - val_accuracy: 0.6262\n",
      "Epoch 9/10\n",
      "38/38 [==============================] - 15s 399ms/step - loss: 0.2791 - accuracy: 0.8946 - val_loss: 1.2231 - val_accuracy: 0.6353\n",
      "Epoch 10/10\n",
      "38/38 [==============================] - 15s 400ms/step - loss: 0.2089 - accuracy: 0.9259 - val_loss: 1.3448 - val_accuracy: 0.6432\n"
     ]
    },
    {
     "data": {
      "text/plain": [
       "<tensorflow.python.keras.callbacks.History at 0x7f6acc720b10>"
      ]
     },
     "execution_count": 13,
     "metadata": {},
     "output_type": "execute_result"
    }
   ],
   "source": [
    "model.fit(train_input, train.label.values, epochs = 10, verbose = 1, batch_size = 256, validation_split = 0.2)"
   ]
  },
  {
   "cell_type": "code",
   "execution_count": 14,
   "metadata": {
    "_cell_guid": "e26cba08-7fe9-4e2e-ab2e-062a26a5fcac",
    "_uuid": "3bfd96e9-cf2c-41ad-bdcc-8c31408f05bd",
    "execution": {
     "iopub.execute_input": "2020-12-08T21:02:58.525281Z",
     "iopub.status.busy": "2020-12-08T21:02:58.524445Z",
     "iopub.status.idle": "2020-12-08T21:03:06.535833Z",
     "shell.execute_reply": "2020-12-08T21:03:06.535038Z"
    },
    "papermill": {
     "duration": 8.209601,
     "end_time": "2020-12-08T21:03:06.536047",
     "exception": false,
     "start_time": "2020-12-08T21:02:58.326446",
     "status": "completed"
    },
    "tags": []
   },
   "outputs": [],
   "source": [
    "test = pd.read_csv(\"../input/contradictory-my-dear-watson/test.csv\")\n",
    "test_input = bert_encode(test.premise.values, test.hypothesis.values, tokenizer)"
   ]
  },
  {
   "cell_type": "code",
   "execution_count": 15,
   "metadata": {
    "_cell_guid": "4b871234-9a42-4f5e-9792-7fc90615b808",
    "_uuid": "9f040800-653f-4f51-9f60-0456d89068be",
    "execution": {
     "iopub.execute_input": "2020-12-08T21:03:06.930053Z",
     "iopub.status.busy": "2020-12-08T21:03:06.929182Z",
     "iopub.status.idle": "2020-12-08T21:03:06.941021Z",
     "shell.execute_reply": "2020-12-08T21:03:06.941666Z"
    },
    "papermill": {
     "duration": 0.215261,
     "end_time": "2020-12-08T21:03:06.941889",
     "exception": false,
     "start_time": "2020-12-08T21:03:06.726628",
     "status": "completed"
    },
    "tags": []
   },
   "outputs": [
    {
     "data": {
      "text/html": [
       "<div>\n",
       "<style scoped>\n",
       "    .dataframe tbody tr th:only-of-type {\n",
       "        vertical-align: middle;\n",
       "    }\n",
       "\n",
       "    .dataframe tbody tr th {\n",
       "        vertical-align: top;\n",
       "    }\n",
       "\n",
       "    .dataframe thead th {\n",
       "        text-align: right;\n",
       "    }\n",
       "</style>\n",
       "<table border=\"1\" class=\"dataframe\">\n",
       "  <thead>\n",
       "    <tr style=\"text-align: right;\">\n",
       "      <th></th>\n",
       "      <th>id</th>\n",
       "      <th>premise</th>\n",
       "      <th>hypothesis</th>\n",
       "      <th>lang_abv</th>\n",
       "      <th>language</th>\n",
       "    </tr>\n",
       "  </thead>\n",
       "  <tbody>\n",
       "    <tr>\n",
       "      <th>0</th>\n",
       "      <td>c6d58c3f69</td>\n",
       "      <td>بکس، کیسی، راہیل، یسعیاہ، کیلی، کیلی، اور کولم...</td>\n",
       "      <td>کیسی کے لئے کوئی یادگار نہیں ہوگا, کولمین ہائی...</td>\n",
       "      <td>ur</td>\n",
       "      <td>Urdu</td>\n",
       "    </tr>\n",
       "    <tr>\n",
       "      <th>1</th>\n",
       "      <td>cefcc82292</td>\n",
       "      <td>هذا هو ما تم نصحنا به.</td>\n",
       "      <td>عندما يتم إخبارهم بما يجب عليهم فعله ، فشلت ال...</td>\n",
       "      <td>ar</td>\n",
       "      <td>Arabic</td>\n",
       "    </tr>\n",
       "    <tr>\n",
       "      <th>2</th>\n",
       "      <td>e98005252c</td>\n",
       "      <td>et cela est en grande partie dû au fait que le...</td>\n",
       "      <td>Les mères se droguent.</td>\n",
       "      <td>fr</td>\n",
       "      <td>French</td>\n",
       "    </tr>\n",
       "    <tr>\n",
       "      <th>3</th>\n",
       "      <td>58518c10ba</td>\n",
       "      <td>与城市及其他公民及社区组织代表就IMA的艺术发展进行对话&amp;amp</td>\n",
       "      <td>IMA与其他组织合作，因为它们都依靠共享资金。</td>\n",
       "      <td>zh</td>\n",
       "      <td>Chinese</td>\n",
       "    </tr>\n",
       "    <tr>\n",
       "      <th>4</th>\n",
       "      <td>c32b0d16df</td>\n",
       "      <td>Она все еще была там.</td>\n",
       "      <td>Мы думали, что она ушла, однако, она осталась.</td>\n",
       "      <td>ru</td>\n",
       "      <td>Russian</td>\n",
       "    </tr>\n",
       "  </tbody>\n",
       "</table>\n",
       "</div>"
      ],
      "text/plain": [
       "           id                                            premise  \\\n",
       "0  c6d58c3f69  بکس، کیسی، راہیل، یسعیاہ، کیلی، کیلی، اور کولم...   \n",
       "1  cefcc82292                             هذا هو ما تم نصحنا به.   \n",
       "2  e98005252c  et cela est en grande partie dû au fait que le...   \n",
       "3  58518c10ba                   与城市及其他公民及社区组织代表就IMA的艺术发展进行对话&amp   \n",
       "4  c32b0d16df                              Она все еще была там.   \n",
       "\n",
       "                                          hypothesis lang_abv language  \n",
       "0  کیسی کے لئے کوئی یادگار نہیں ہوگا, کولمین ہائی...       ur     Urdu  \n",
       "1  عندما يتم إخبارهم بما يجب عليهم فعله ، فشلت ال...       ar   Arabic  \n",
       "2                             Les mères se droguent.       fr   French  \n",
       "3                            IMA与其他组织合作，因为它们都依靠共享资金。       zh  Chinese  \n",
       "4     Мы думали, что она ушла, однако, она осталась.       ru  Russian  "
      ]
     },
     "execution_count": 15,
     "metadata": {},
     "output_type": "execute_result"
    }
   ],
   "source": [
    "test.head()"
   ]
  },
  {
   "cell_type": "markdown",
   "metadata": {
    "_cell_guid": "87b18b05-30f3-45f9-9c3e-6f8184934bd0",
    "_uuid": "fb1ff888-7684-4888-b861-3c31a3f360b7",
    "papermill": {
     "duration": 0.191025,
     "end_time": "2020-12-08T21:03:07.327839",
     "exception": false,
     "start_time": "2020-12-08T21:03:07.136814",
     "status": "completed"
    },
    "tags": []
   },
   "source": [
    "## Prediction"
   ]
  },
  {
   "cell_type": "code",
   "execution_count": 16,
   "metadata": {
    "_cell_guid": "a7ab0c33-0377-4cb2-b4f9-fc489383fdb7",
    "_uuid": "f9db46a1-1f83-4ddb-85bf-da8f40afe623",
    "execution": {
     "iopub.execute_input": "2020-12-08T21:03:07.714457Z",
     "iopub.status.busy": "2020-12-08T21:03:07.713604Z",
     "iopub.status.idle": "2020-12-08T21:03:31.964927Z",
     "shell.execute_reply": "2020-12-08T21:03:31.964205Z"
    },
    "papermill": {
     "duration": 24.447021,
     "end_time": "2020-12-08T21:03:31.965063",
     "exception": false,
     "start_time": "2020-12-08T21:03:07.518042",
     "status": "completed"
    },
    "tags": []
   },
   "outputs": [],
   "source": [
    "predictions = [np.argmax(i) for i in model.predict(test_input)]"
   ]
  },
  {
   "cell_type": "code",
   "execution_count": 17,
   "metadata": {
    "_cell_guid": "add7302f-ae26-4e78-b69d-858cacb35991",
    "_uuid": "9e0e34fa-1ef7-4207-a5c3-c21863c7be27",
    "execution": {
     "iopub.execute_input": "2020-12-08T21:03:32.359893Z",
     "iopub.status.busy": "2020-12-08T21:03:32.359096Z",
     "iopub.status.idle": "2020-12-08T21:03:32.363233Z",
     "shell.execute_reply": "2020-12-08T21:03:32.362582Z"
    },
    "papermill": {
     "duration": 0.202742,
     "end_time": "2020-12-08T21:03:32.363370",
     "exception": false,
     "start_time": "2020-12-08T21:03:32.160628",
     "status": "completed"
    },
    "tags": []
   },
   "outputs": [],
   "source": [
    "submission = test.id.copy().to_frame()\n",
    "submission['prediction'] = predictions"
   ]
  },
  {
   "cell_type": "code",
   "execution_count": 18,
   "metadata": {
    "_cell_guid": "d4fdefdc-4839-4962-ae75-6807390a6de7",
    "_uuid": "1d4999aa-10d2-4a88-962a-8f10bded837b",
    "execution": {
     "iopub.execute_input": "2020-12-08T21:03:32.749655Z",
     "iopub.status.busy": "2020-12-08T21:03:32.748483Z",
     "iopub.status.idle": "2020-12-08T21:03:32.752966Z",
     "shell.execute_reply": "2020-12-08T21:03:32.752294Z"
    },
    "papermill": {
     "duration": 0.200372,
     "end_time": "2020-12-08T21:03:32.753091",
     "exception": false,
     "start_time": "2020-12-08T21:03:32.552719",
     "status": "completed"
    },
    "tags": []
   },
   "outputs": [
    {
     "data": {
      "text/html": [
       "<div>\n",
       "<style scoped>\n",
       "    .dataframe tbody tr th:only-of-type {\n",
       "        vertical-align: middle;\n",
       "    }\n",
       "\n",
       "    .dataframe tbody tr th {\n",
       "        vertical-align: top;\n",
       "    }\n",
       "\n",
       "    .dataframe thead th {\n",
       "        text-align: right;\n",
       "    }\n",
       "</style>\n",
       "<table border=\"1\" class=\"dataframe\">\n",
       "  <thead>\n",
       "    <tr style=\"text-align: right;\">\n",
       "      <th></th>\n",
       "      <th>id</th>\n",
       "      <th>prediction</th>\n",
       "    </tr>\n",
       "  </thead>\n",
       "  <tbody>\n",
       "    <tr>\n",
       "      <th>0</th>\n",
       "      <td>c6d58c3f69</td>\n",
       "      <td>2</td>\n",
       "    </tr>\n",
       "    <tr>\n",
       "      <th>1</th>\n",
       "      <td>cefcc82292</td>\n",
       "      <td>1</td>\n",
       "    </tr>\n",
       "    <tr>\n",
       "      <th>2</th>\n",
       "      <td>e98005252c</td>\n",
       "      <td>0</td>\n",
       "    </tr>\n",
       "    <tr>\n",
       "      <th>3</th>\n",
       "      <td>58518c10ba</td>\n",
       "      <td>1</td>\n",
       "    </tr>\n",
       "    <tr>\n",
       "      <th>4</th>\n",
       "      <td>c32b0d16df</td>\n",
       "      <td>2</td>\n",
       "    </tr>\n",
       "  </tbody>\n",
       "</table>\n",
       "</div>"
      ],
      "text/plain": [
       "           id  prediction\n",
       "0  c6d58c3f69           2\n",
       "1  cefcc82292           1\n",
       "2  e98005252c           0\n",
       "3  58518c10ba           1\n",
       "4  c32b0d16df           2"
      ]
     },
     "execution_count": 18,
     "metadata": {},
     "output_type": "execute_result"
    }
   ],
   "source": [
    "submission.head()"
   ]
  },
  {
   "cell_type": "code",
   "execution_count": 19,
   "metadata": {
    "_cell_guid": "84abe9e3-ef04-4dac-97d2-2308a0f11313",
    "_uuid": "b8463f7e-8b2f-4c24-8eb3-a35ec02a2d6e",
    "execution": {
     "iopub.execute_input": "2020-12-08T21:03:33.134634Z",
     "iopub.status.busy": "2020-12-08T21:03:33.133840Z",
     "iopub.status.idle": "2020-12-08T21:03:33.211966Z",
     "shell.execute_reply": "2020-12-08T21:03:33.211103Z"
    },
    "papermill": {
     "duration": 0.272695,
     "end_time": "2020-12-08T21:03:33.212097",
     "exception": false,
     "start_time": "2020-12-08T21:03:32.939402",
     "status": "completed"
    },
    "tags": []
   },
   "outputs": [],
   "source": [
    "submission.to_csv(\"submission.csv\", index = False)"
   ]
  },
  {
   "cell_type": "code",
   "execution_count": null,
   "metadata": {
    "papermill": {
     "duration": 0.189046,
     "end_time": "2020-12-08T21:03:33.589542",
     "exception": false,
     "start_time": "2020-12-08T21:03:33.400496",
     "status": "completed"
    },
    "tags": []
   },
   "outputs": [],
   "source": []
  }
 ],
 "metadata": {
  "kernelspec": {
   "display_name": "Python 3",
   "language": "python",
   "name": "python3"
  },
  "language_info": {
   "codemirror_mode": {
    "name": "ipython",
    "version": 3
   },
   "file_extension": ".py",
   "mimetype": "text/x-python",
   "name": "python",
   "nbconvert_exporter": "python",
   "pygments_lexer": "ipython3",
   "version": "3.7.6"
  },
  "papermill": {
   "duration": 504.920256,
   "end_time": "2020-12-08T21:03:33.989961",
   "environment_variables": {},
   "exception": null,
   "input_path": "__notebook__.ipynb",
   "output_path": "__notebook__.ipynb",
   "parameters": {},
   "start_time": "2020-12-08T20:55:09.069705",
   "version": "2.1.0"
  },
  "widgets": {
   "application/vnd.jupyter.widget-state+json": {
    "state": {
     "05635ee7092c4402be070f906d873420": {
      "model_module": "@jupyter-widgets/controls",
      "model_module_version": "1.5.0",
      "model_name": "DescriptionStyleModel",
      "state": {
       "_model_module": "@jupyter-widgets/controls",
       "_model_module_version": "1.5.0",
       "_model_name": "DescriptionStyleModel",
       "_view_count": null,
       "_view_module": "@jupyter-widgets/base",
       "_view_module_version": "1.2.0",
       "_view_name": "StyleView",
       "description_width": ""
      }
     },
     "0ab717e7e9924b10b71e64b1a3d87016": {
      "model_module": "@jupyter-widgets/base",
      "model_module_version": "1.2.0",
      "model_name": "LayoutModel",
      "state": {
       "_model_module": "@jupyter-widgets/base",
       "_model_module_version": "1.2.0",
       "_model_name": "LayoutModel",
       "_view_count": null,
       "_view_module": "@jupyter-widgets/base",
       "_view_module_version": "1.2.0",
       "_view_name": "LayoutView",
       "align_content": null,
       "align_items": null,
       "align_self": null,
       "border": null,
       "bottom": null,
       "display": null,
       "flex": null,
       "flex_flow": null,
       "grid_area": null,
       "grid_auto_columns": null,
       "grid_auto_flow": null,
       "grid_auto_rows": null,
       "grid_column": null,
       "grid_gap": null,
       "grid_row": null,
       "grid_template_areas": null,
       "grid_template_columns": null,
       "grid_template_rows": null,
       "height": null,
       "justify_content": null,
       "justify_items": null,
       "left": null,
       "margin": null,
       "max_height": null,
       "max_width": null,
       "min_height": null,
       "min_width": null,
       "object_fit": null,
       "object_position": null,
       "order": null,
       "overflow": null,
       "overflow_x": null,
       "overflow_y": null,
       "padding": null,
       "right": null,
       "top": null,
       "visibility": null,
       "width": null
      }
     },
     "0b96adea7cfe4b65b8c1f588627f25cd": {
      "model_module": "@jupyter-widgets/base",
      "model_module_version": "1.2.0",
      "model_name": "LayoutModel",
      "state": {
       "_model_module": "@jupyter-widgets/base",
       "_model_module_version": "1.2.0",
       "_model_name": "LayoutModel",
       "_view_count": null,
       "_view_module": "@jupyter-widgets/base",
       "_view_module_version": "1.2.0",
       "_view_name": "LayoutView",
       "align_content": null,
       "align_items": null,
       "align_self": null,
       "border": null,
       "bottom": null,
       "display": null,
       "flex": null,
       "flex_flow": null,
       "grid_area": null,
       "grid_auto_columns": null,
       "grid_auto_flow": null,
       "grid_auto_rows": null,
       "grid_column": null,
       "grid_gap": null,
       "grid_row": null,
       "grid_template_areas": null,
       "grid_template_columns": null,
       "grid_template_rows": null,
       "height": null,
       "justify_content": null,
       "justify_items": null,
       "left": null,
       "margin": null,
       "max_height": null,
       "max_width": null,
       "min_height": null,
       "min_width": null,
       "object_fit": null,
       "object_position": null,
       "order": null,
       "overflow": null,
       "overflow_x": null,
       "overflow_y": null,
       "padding": null,
       "right": null,
       "top": null,
       "visibility": null,
       "width": null
      }
     },
     "1aac9a532439472b8deb742319187458": {
      "model_module": "@jupyter-widgets/controls",
      "model_module_version": "1.5.0",
      "model_name": "ProgressStyleModel",
      "state": {
       "_model_module": "@jupyter-widgets/controls",
       "_model_module_version": "1.5.0",
       "_model_name": "ProgressStyleModel",
       "_view_count": null,
       "_view_module": "@jupyter-widgets/base",
       "_view_module_version": "1.2.0",
       "_view_name": "StyleView",
       "bar_color": null,
       "description_width": "initial"
      }
     },
     "328891534e5a4f7a97bb6198b2a11883": {
      "model_module": "@jupyter-widgets/controls",
      "model_module_version": "1.5.0",
      "model_name": "DescriptionStyleModel",
      "state": {
       "_model_module": "@jupyter-widgets/controls",
       "_model_module_version": "1.5.0",
       "_model_name": "DescriptionStyleModel",
       "_view_count": null,
       "_view_module": "@jupyter-widgets/base",
       "_view_module_version": "1.2.0",
       "_view_name": "StyleView",
       "description_width": ""
      }
     },
     "3d530246b8d9451b824169ae5e0685d6": {
      "model_module": "@jupyter-widgets/controls",
      "model_module_version": "1.5.0",
      "model_name": "HTMLModel",
      "state": {
       "_dom_classes": [],
       "_model_module": "@jupyter-widgets/controls",
       "_model_module_version": "1.5.0",
       "_model_name": "HTMLModel",
       "_view_count": null,
       "_view_module": "@jupyter-widgets/controls",
       "_view_module_version": "1.5.0",
       "_view_name": "HTMLView",
       "description": "",
       "description_tooltip": null,
       "layout": "IPY_MODEL_db36e8f4937b4046bbf51c25d946b4b7",
       "placeholder": "​",
       "style": "IPY_MODEL_05635ee7092c4402be070f906d873420",
       "value": " 1.08G/1.08G [00:49&lt;00:00, 22.0MB/s]"
      }
     },
     "3dde9b01dfa04eb7a4a74bc323d11832": {
      "model_module": "@jupyter-widgets/controls",
      "model_module_version": "1.5.0",
      "model_name": "HTMLModel",
      "state": {
       "_dom_classes": [],
       "_model_module": "@jupyter-widgets/controls",
       "_model_module_version": "1.5.0",
       "_model_name": "HTMLModel",
       "_view_count": null,
       "_view_module": "@jupyter-widgets/controls",
       "_view_module_version": "1.5.0",
       "_view_name": "HTMLView",
       "description": "",
       "description_tooltip": null,
       "layout": "IPY_MODEL_a52f193f31834f71a7d0e789183193c2",
       "placeholder": "​",
       "style": "IPY_MODEL_940f456eb8674e8091a9d679f1bb3df0",
       "value": " 996k/996k [00:00&lt;00:00, 1.49MB/s]"
      }
     },
     "4bff20c470a0489eb81704c3881bd1c8": {
      "model_module": "@jupyter-widgets/controls",
      "model_module_version": "1.5.0",
      "model_name": "HTMLModel",
      "state": {
       "_dom_classes": [],
       "_model_module": "@jupyter-widgets/controls",
       "_model_module_version": "1.5.0",
       "_model_name": "HTMLModel",
       "_view_count": null,
       "_view_module": "@jupyter-widgets/controls",
       "_view_module_version": "1.5.0",
       "_view_name": "HTMLView",
       "description": "",
       "description_tooltip": null,
       "layout": "IPY_MODEL_0ab717e7e9924b10b71e64b1a3d87016",
       "placeholder": "​",
       "style": "IPY_MODEL_328891534e5a4f7a97bb6198b2a11883",
       "value": " 625/625 [00:49&lt;00:00, 12.6B/s]"
      }
     },
     "5d0f462fb0bb47e4b0ce14500ea929e4": {
      "model_module": "@jupyter-widgets/controls",
      "model_module_version": "1.5.0",
      "model_name": "FloatProgressModel",
      "state": {
       "_dom_classes": [],
       "_model_module": "@jupyter-widgets/controls",
       "_model_module_version": "1.5.0",
       "_model_name": "FloatProgressModel",
       "_view_count": null,
       "_view_module": "@jupyter-widgets/controls",
       "_view_module_version": "1.5.0",
       "_view_name": "ProgressView",
       "bar_style": "success",
       "description": "Downloading: 100%",
       "description_tooltip": null,
       "layout": "IPY_MODEL_6a65e619f5a94fcba9d0e6b2c39a8f56",
       "max": 995526.0,
       "min": 0.0,
       "orientation": "horizontal",
       "style": "IPY_MODEL_c9a0707f9e4c45519f0725e5d4cdd6c6",
       "value": 995526.0
      }
     },
     "6a65e619f5a94fcba9d0e6b2c39a8f56": {
      "model_module": "@jupyter-widgets/base",
      "model_module_version": "1.2.0",
      "model_name": "LayoutModel",
      "state": {
       "_model_module": "@jupyter-widgets/base",
       "_model_module_version": "1.2.0",
       "_model_name": "LayoutModel",
       "_view_count": null,
       "_view_module": "@jupyter-widgets/base",
       "_view_module_version": "1.2.0",
       "_view_name": "LayoutView",
       "align_content": null,
       "align_items": null,
       "align_self": null,
       "border": null,
       "bottom": null,
       "display": null,
       "flex": null,
       "flex_flow": null,
       "grid_area": null,
       "grid_auto_columns": null,
       "grid_auto_flow": null,
       "grid_auto_rows": null,
       "grid_column": null,
       "grid_gap": null,
       "grid_row": null,
       "grid_template_areas": null,
       "grid_template_columns": null,
       "grid_template_rows": null,
       "height": null,
       "justify_content": null,
       "justify_items": null,
       "left": null,
       "margin": null,
       "max_height": null,
       "max_width": null,
       "min_height": null,
       "min_width": null,
       "object_fit": null,
       "object_position": null,
       "order": null,
       "overflow": null,
       "overflow_x": null,
       "overflow_y": null,
       "padding": null,
       "right": null,
       "top": null,
       "visibility": null,
       "width": null
      }
     },
     "72aef8c7a6864495b622bac1b956622a": {
      "model_module": "@jupyter-widgets/controls",
      "model_module_version": "1.5.0",
      "model_name": "ProgressStyleModel",
      "state": {
       "_model_module": "@jupyter-widgets/controls",
       "_model_module_version": "1.5.0",
       "_model_name": "ProgressStyleModel",
       "_view_count": null,
       "_view_module": "@jupyter-widgets/base",
       "_view_module_version": "1.2.0",
       "_view_name": "StyleView",
       "bar_color": null,
       "description_width": "initial"
      }
     },
     "76385d701ead48b183c71738d9b07554": {
      "model_module": "@jupyter-widgets/controls",
      "model_module_version": "1.5.0",
      "model_name": "HBoxModel",
      "state": {
       "_dom_classes": [],
       "_model_module": "@jupyter-widgets/controls",
       "_model_module_version": "1.5.0",
       "_model_name": "HBoxModel",
       "_view_count": null,
       "_view_module": "@jupyter-widgets/controls",
       "_view_module_version": "1.5.0",
       "_view_name": "HBoxView",
       "box_style": "",
       "children": [
        "IPY_MODEL_5d0f462fb0bb47e4b0ce14500ea929e4",
        "IPY_MODEL_3dde9b01dfa04eb7a4a74bc323d11832"
       ],
       "layout": "IPY_MODEL_856d7e5f146a4a5bab161932bad4c88d"
      }
     },
     "7d52c18d8e014246a3eedb57dd763888": {
      "model_module": "@jupyter-widgets/controls",
      "model_module_version": "1.5.0",
      "model_name": "FloatProgressModel",
      "state": {
       "_dom_classes": [],
       "_model_module": "@jupyter-widgets/controls",
       "_model_module_version": "1.5.0",
       "_model_name": "FloatProgressModel",
       "_view_count": null,
       "_view_module": "@jupyter-widgets/controls",
       "_view_module_version": "1.5.0",
       "_view_name": "ProgressView",
       "bar_style": "success",
       "description": "Downloading: 100%",
       "description_tooltip": null,
       "layout": "IPY_MODEL_9e9c8fc2a41e4ba18ad34bdc5c33e4cf",
       "max": 625.0,
       "min": 0.0,
       "orientation": "horizontal",
       "style": "IPY_MODEL_72aef8c7a6864495b622bac1b956622a",
       "value": 625.0
      }
     },
     "7fceb755908a43f7838e67c360eb39e7": {
      "model_module": "@jupyter-widgets/controls",
      "model_module_version": "1.5.0",
      "model_name": "HBoxModel",
      "state": {
       "_dom_classes": [],
       "_model_module": "@jupyter-widgets/controls",
       "_model_module_version": "1.5.0",
       "_model_name": "HBoxModel",
       "_view_count": null,
       "_view_module": "@jupyter-widgets/controls",
       "_view_module_version": "1.5.0",
       "_view_name": "HBoxView",
       "box_style": "",
       "children": [
        "IPY_MODEL_7d52c18d8e014246a3eedb57dd763888",
        "IPY_MODEL_4bff20c470a0489eb81704c3881bd1c8"
       ],
       "layout": "IPY_MODEL_fe5df043e6834bf1b0fa11d0012dc1d2"
      }
     },
     "856d7e5f146a4a5bab161932bad4c88d": {
      "model_module": "@jupyter-widgets/base",
      "model_module_version": "1.2.0",
      "model_name": "LayoutModel",
      "state": {
       "_model_module": "@jupyter-widgets/base",
       "_model_module_version": "1.2.0",
       "_model_name": "LayoutModel",
       "_view_count": null,
       "_view_module": "@jupyter-widgets/base",
       "_view_module_version": "1.2.0",
       "_view_name": "LayoutView",
       "align_content": null,
       "align_items": null,
       "align_self": null,
       "border": null,
       "bottom": null,
       "display": null,
       "flex": null,
       "flex_flow": null,
       "grid_area": null,
       "grid_auto_columns": null,
       "grid_auto_flow": null,
       "grid_auto_rows": null,
       "grid_column": null,
       "grid_gap": null,
       "grid_row": null,
       "grid_template_areas": null,
       "grid_template_columns": null,
       "grid_template_rows": null,
       "height": null,
       "justify_content": null,
       "justify_items": null,
       "left": null,
       "margin": null,
       "max_height": null,
       "max_width": null,
       "min_height": null,
       "min_width": null,
       "object_fit": null,
       "object_position": null,
       "order": null,
       "overflow": null,
       "overflow_x": null,
       "overflow_y": null,
       "padding": null,
       "right": null,
       "top": null,
       "visibility": null,
       "width": null
      }
     },
     "940f456eb8674e8091a9d679f1bb3df0": {
      "model_module": "@jupyter-widgets/controls",
      "model_module_version": "1.5.0",
      "model_name": "DescriptionStyleModel",
      "state": {
       "_model_module": "@jupyter-widgets/controls",
       "_model_module_version": "1.5.0",
       "_model_name": "DescriptionStyleModel",
       "_view_count": null,
       "_view_module": "@jupyter-widgets/base",
       "_view_module_version": "1.2.0",
       "_view_name": "StyleView",
       "description_width": ""
      }
     },
     "9e9c8fc2a41e4ba18ad34bdc5c33e4cf": {
      "model_module": "@jupyter-widgets/base",
      "model_module_version": "1.2.0",
      "model_name": "LayoutModel",
      "state": {
       "_model_module": "@jupyter-widgets/base",
       "_model_module_version": "1.2.0",
       "_model_name": "LayoutModel",
       "_view_count": null,
       "_view_module": "@jupyter-widgets/base",
       "_view_module_version": "1.2.0",
       "_view_name": "LayoutView",
       "align_content": null,
       "align_items": null,
       "align_self": null,
       "border": null,
       "bottom": null,
       "display": null,
       "flex": null,
       "flex_flow": null,
       "grid_area": null,
       "grid_auto_columns": null,
       "grid_auto_flow": null,
       "grid_auto_rows": null,
       "grid_column": null,
       "grid_gap": null,
       "grid_row": null,
       "grid_template_areas": null,
       "grid_template_columns": null,
       "grid_template_rows": null,
       "height": null,
       "justify_content": null,
       "justify_items": null,
       "left": null,
       "margin": null,
       "max_height": null,
       "max_width": null,
       "min_height": null,
       "min_width": null,
       "object_fit": null,
       "object_position": null,
       "order": null,
       "overflow": null,
       "overflow_x": null,
       "overflow_y": null,
       "padding": null,
       "right": null,
       "top": null,
       "visibility": null,
       "width": null
      }
     },
     "a52f193f31834f71a7d0e789183193c2": {
      "model_module": "@jupyter-widgets/base",
      "model_module_version": "1.2.0",
      "model_name": "LayoutModel",
      "state": {
       "_model_module": "@jupyter-widgets/base",
       "_model_module_version": "1.2.0",
       "_model_name": "LayoutModel",
       "_view_count": null,
       "_view_module": "@jupyter-widgets/base",
       "_view_module_version": "1.2.0",
       "_view_name": "LayoutView",
       "align_content": null,
       "align_items": null,
       "align_self": null,
       "border": null,
       "bottom": null,
       "display": null,
       "flex": null,
       "flex_flow": null,
       "grid_area": null,
       "grid_auto_columns": null,
       "grid_auto_flow": null,
       "grid_auto_rows": null,
       "grid_column": null,
       "grid_gap": null,
       "grid_row": null,
       "grid_template_areas": null,
       "grid_template_columns": null,
       "grid_template_rows": null,
       "height": null,
       "justify_content": null,
       "justify_items": null,
       "left": null,
       "margin": null,
       "max_height": null,
       "max_width": null,
       "min_height": null,
       "min_width": null,
       "object_fit": null,
       "object_position": null,
       "order": null,
       "overflow": null,
       "overflow_x": null,
       "overflow_y": null,
       "padding": null,
       "right": null,
       "top": null,
       "visibility": null,
       "width": null
      }
     },
     "bc593e5bfff549da9509c0585f528722": {
      "model_module": "@jupyter-widgets/controls",
      "model_module_version": "1.5.0",
      "model_name": "HBoxModel",
      "state": {
       "_dom_classes": [],
       "_model_module": "@jupyter-widgets/controls",
       "_model_module_version": "1.5.0",
       "_model_name": "HBoxModel",
       "_view_count": null,
       "_view_module": "@jupyter-widgets/controls",
       "_view_module_version": "1.5.0",
       "_view_name": "HBoxView",
       "box_style": "",
       "children": [
        "IPY_MODEL_c0d3be9717794bfca4761d813999a568",
        "IPY_MODEL_3d530246b8d9451b824169ae5e0685d6"
       ],
       "layout": "IPY_MODEL_0b96adea7cfe4b65b8c1f588627f25cd"
      }
     },
     "c0d3be9717794bfca4761d813999a568": {
      "model_module": "@jupyter-widgets/controls",
      "model_module_version": "1.5.0",
      "model_name": "FloatProgressModel",
      "state": {
       "_dom_classes": [],
       "_model_module": "@jupyter-widgets/controls",
       "_model_module_version": "1.5.0",
       "_model_name": "FloatProgressModel",
       "_view_count": null,
       "_view_module": "@jupyter-widgets/controls",
       "_view_module_version": "1.5.0",
       "_view_name": "ProgressView",
       "bar_style": "success",
       "description": "Downloading: 100%",
       "description_tooltip": null,
       "layout": "IPY_MODEL_cc039a940bde415ebe8557eab3807f80",
       "max": 1083389348.0,
       "min": 0.0,
       "orientation": "horizontal",
       "style": "IPY_MODEL_1aac9a532439472b8deb742319187458",
       "value": 1083389348.0
      }
     },
     "c9a0707f9e4c45519f0725e5d4cdd6c6": {
      "model_module": "@jupyter-widgets/controls",
      "model_module_version": "1.5.0",
      "model_name": "ProgressStyleModel",
      "state": {
       "_model_module": "@jupyter-widgets/controls",
       "_model_module_version": "1.5.0",
       "_model_name": "ProgressStyleModel",
       "_view_count": null,
       "_view_module": "@jupyter-widgets/base",
       "_view_module_version": "1.2.0",
       "_view_name": "StyleView",
       "bar_color": null,
       "description_width": "initial"
      }
     },
     "cc039a940bde415ebe8557eab3807f80": {
      "model_module": "@jupyter-widgets/base",
      "model_module_version": "1.2.0",
      "model_name": "LayoutModel",
      "state": {
       "_model_module": "@jupyter-widgets/base",
       "_model_module_version": "1.2.0",
       "_model_name": "LayoutModel",
       "_view_count": null,
       "_view_module": "@jupyter-widgets/base",
       "_view_module_version": "1.2.0",
       "_view_name": "LayoutView",
       "align_content": null,
       "align_items": null,
       "align_self": null,
       "border": null,
       "bottom": null,
       "display": null,
       "flex": null,
       "flex_flow": null,
       "grid_area": null,
       "grid_auto_columns": null,
       "grid_auto_flow": null,
       "grid_auto_rows": null,
       "grid_column": null,
       "grid_gap": null,
       "grid_row": null,
       "grid_template_areas": null,
       "grid_template_columns": null,
       "grid_template_rows": null,
       "height": null,
       "justify_content": null,
       "justify_items": null,
       "left": null,
       "margin": null,
       "max_height": null,
       "max_width": null,
       "min_height": null,
       "min_width": null,
       "object_fit": null,
       "object_position": null,
       "order": null,
       "overflow": null,
       "overflow_x": null,
       "overflow_y": null,
       "padding": null,
       "right": null,
       "top": null,
       "visibility": null,
       "width": null
      }
     },
     "db36e8f4937b4046bbf51c25d946b4b7": {
      "model_module": "@jupyter-widgets/base",
      "model_module_version": "1.2.0",
      "model_name": "LayoutModel",
      "state": {
       "_model_module": "@jupyter-widgets/base",
       "_model_module_version": "1.2.0",
       "_model_name": "LayoutModel",
       "_view_count": null,
       "_view_module": "@jupyter-widgets/base",
       "_view_module_version": "1.2.0",
       "_view_name": "LayoutView",
       "align_content": null,
       "align_items": null,
       "align_self": null,
       "border": null,
       "bottom": null,
       "display": null,
       "flex": null,
       "flex_flow": null,
       "grid_area": null,
       "grid_auto_columns": null,
       "grid_auto_flow": null,
       "grid_auto_rows": null,
       "grid_column": null,
       "grid_gap": null,
       "grid_row": null,
       "grid_template_areas": null,
       "grid_template_columns": null,
       "grid_template_rows": null,
       "height": null,
       "justify_content": null,
       "justify_items": null,
       "left": null,
       "margin": null,
       "max_height": null,
       "max_width": null,
       "min_height": null,
       "min_width": null,
       "object_fit": null,
       "object_position": null,
       "order": null,
       "overflow": null,
       "overflow_x": null,
       "overflow_y": null,
       "padding": null,
       "right": null,
       "top": null,
       "visibility": null,
       "width": null
      }
     },
     "fe5df043e6834bf1b0fa11d0012dc1d2": {
      "model_module": "@jupyter-widgets/base",
      "model_module_version": "1.2.0",
      "model_name": "LayoutModel",
      "state": {
       "_model_module": "@jupyter-widgets/base",
       "_model_module_version": "1.2.0",
       "_model_name": "LayoutModel",
       "_view_count": null,
       "_view_module": "@jupyter-widgets/base",
       "_view_module_version": "1.2.0",
       "_view_name": "LayoutView",
       "align_content": null,
       "align_items": null,
       "align_self": null,
       "border": null,
       "bottom": null,
       "display": null,
       "flex": null,
       "flex_flow": null,
       "grid_area": null,
       "grid_auto_columns": null,
       "grid_auto_flow": null,
       "grid_auto_rows": null,
       "grid_column": null,
       "grid_gap": null,
       "grid_row": null,
       "grid_template_areas": null,
       "grid_template_columns": null,
       "grid_template_rows": null,
       "height": null,
       "justify_content": null,
       "justify_items": null,
       "left": null,
       "margin": null,
       "max_height": null,
       "max_width": null,
       "min_height": null,
       "min_width": null,
       "object_fit": null,
       "object_position": null,
       "order": null,
       "overflow": null,
       "overflow_x": null,
       "overflow_y": null,
       "padding": null,
       "right": null,
       "top": null,
       "visibility": null,
       "width": null
      }
     }
    },
    "version_major": 2,
    "version_minor": 0
   }
  }
 },
 "nbformat": 4,
 "nbformat_minor": 4
}
