{
  "nbformat": 4,
  "nbformat_minor": 0,
  "metadata": {
    "colab": {
      "name": "Untitled3.ipynb",
      "provenance": []
    },
    "kernelspec": {
      "name": "python3",
      "display_name": "Python 3"
    }
  },
  "cells": [
    {
      "cell_type": "code",
      "metadata": {
        "colab": {
          "base_uri": "https://localhost:8080/"
        },
        "id": "EgZAGgNmXhVU",
        "outputId": "a79598e5-d6e0-4d6d-aecb-4032836517b0"
      },
      "source": [
        "!pip install datasets"
      ],
      "execution_count": 33,
      "outputs": [
        {
          "output_type": "stream",
          "text": [
            "Requirement already satisfied: datasets in /usr/local/lib/python3.6/dist-packages (1.1.3)\n",
            "Requirement already satisfied: requests>=2.19.0 in /usr/local/lib/python3.6/dist-packages (from datasets) (2.23.0)\n",
            "Requirement already satisfied: xxhash in /usr/local/lib/python3.6/dist-packages (from datasets) (2.0.0)\n",
            "Requirement already satisfied: dataclasses; python_version < \"3.7\" in /usr/local/lib/python3.6/dist-packages (from datasets) (0.8)\n",
            "Requirement already satisfied: multiprocess in /usr/local/lib/python3.6/dist-packages (from datasets) (0.70.11.1)\n",
            "Requirement already satisfied: tqdm<4.50.0,>=4.27 in /usr/local/lib/python3.6/dist-packages (from datasets) (4.41.1)\n",
            "Requirement already satisfied: dill in /usr/local/lib/python3.6/dist-packages (from datasets) (0.3.3)\n",
            "Requirement already satisfied: numpy>=1.17 in /usr/local/lib/python3.6/dist-packages (from datasets) (1.19.4)\n",
            "Requirement already satisfied: pyarrow>=0.17.1 in /usr/local/lib/python3.6/dist-packages (from datasets) (2.0.0)\n",
            "Requirement already satisfied: pandas in /usr/local/lib/python3.6/dist-packages (from datasets) (1.1.5)\n",
            "Requirement already satisfied: certifi>=2017.4.17 in /usr/local/lib/python3.6/dist-packages (from requests>=2.19.0->datasets) (2020.12.5)\n",
            "Requirement already satisfied: chardet<4,>=3.0.2 in /usr/local/lib/python3.6/dist-packages (from requests>=2.19.0->datasets) (3.0.4)\n",
            "Requirement already satisfied: idna<3,>=2.5 in /usr/local/lib/python3.6/dist-packages (from requests>=2.19.0->datasets) (2.10)\n",
            "Requirement already satisfied: urllib3!=1.25.0,!=1.25.1,<1.26,>=1.21.1 in /usr/local/lib/python3.6/dist-packages (from requests>=2.19.0->datasets) (1.24.3)\n",
            "Requirement already satisfied: pytz>=2017.2 in /usr/local/lib/python3.6/dist-packages (from pandas->datasets) (2018.9)\n",
            "Requirement already satisfied: python-dateutil>=2.7.3 in /usr/local/lib/python3.6/dist-packages (from pandas->datasets) (2.8.1)\n",
            "Requirement already satisfied: six>=1.5 in /usr/local/lib/python3.6/dist-packages (from python-dateutil>=2.7.3->pandas->datasets) (1.15.0)\n"
          ],
          "name": "stdout"
        }
      ]
    },
    {
      "cell_type": "code",
      "metadata": {
        "id": "Kvr03AQMYhIF"
      },
      "source": [
        "import numpy as np\r\n",
        "import pandas as pd\r\n",
        "\r\n",
        "import datasets"
      ],
      "execution_count": 34,
      "outputs": []
    },
    {
      "cell_type": "code",
      "metadata": {
        "id": "8C7xTK0GYDwz"
      },
      "source": [
        "train = pd.read_csv('train.csv')\r\n",
        "test = pd.read_csv('test.csv')"
      ],
      "execution_count": 35,
      "outputs": []
    },
    {
      "cell_type": "code",
      "metadata": {
        "id": "BW4ysdA-Y2U7"
      },
      "source": [
        "def load_xnli():\r\n",
        "    result = []\r\n",
        "    dataset = datasets.load_dataset('xnli', 'all_languages', script_version='master')\r\n",
        "    for k in dataset.keys():\r\n",
        "        for record in dataset[k]:\r\n",
        "            h, p, l = record['hypothesis'], record['premise'], record['label']\r\n",
        "            for lang, trans in zip(h['language'], h['translation']):\r\n",
        "                result.append((p.get(lang, None), trans, l, lang))\r\n",
        "    return pd.DataFrame(result, columns=['premise', 'hypothesis', 'label', 'lang_abv'])\r\n"
      ],
      "execution_count": 36,
      "outputs": []
    },
    {
      "cell_type": "code",
      "metadata": {
        "colab": {
          "base_uri": "https://localhost:8080/"
        },
        "id": "gWlso1oZZWHv",
        "outputId": "3c49e1ce-59b1-4363-daba-9226c2b2f33c"
      },
      "source": [
        "xnli = load_xnli()"
      ],
      "execution_count": 37,
      "outputs": [
        {
          "output_type": "stream",
          "text": [
            "Reusing dataset xnli (/root/.cache/huggingface/datasets/xnli/all_languages/1.1.0/51ba3a1091acf33fd7c2a54bcbeeee1b1df3ecb127fdca003d31968fa3a1e6a8)\n"
          ],
          "name": "stderr"
        }
      ]
    },
    {
      "cell_type": "code",
      "metadata": {
        "id": "yUS-BrVpZYIw"
      },
      "source": [
        "prems = set(xnli['premise'])\r\n",
        "hyps = set(xnli['hypothesis'])"
      ],
      "execution_count": 38,
      "outputs": []
    },
    {
      "cell_type": "code",
      "metadata": {
        "id": "qHpJfHz_cbEy"
      },
      "source": [
        "train['xpr'] = train['premise'].apply(lambda q: (q not in prems))\r\n",
        "test['xpr'] = test['premise'].apply(lambda q: (q not in prems))\r\n",
        "train['xhp'] = train['hypothesis'].apply(lambda q: (q not in hyps))\r\n",
        "test['xhp'] = test['hypothesis'].apply(lambda q: (q not in hyps))"
      ],
      "execution_count": 39,
      "outputs": []
    },
    {
      "cell_type": "code",
      "metadata": {
        "colab": {
          "base_uri": "https://localhost:8080/"
        },
        "id": "IbHQSWfAcEXD",
        "outputId": "1ab02120-b753-4875-aa2b-a967c66ea9b9"
      },
      "source": [
        "print('train premises not in xnli: {} / {}'.format(train['xpr'].sum(), len(train)))\r\n",
        "print('train гипотезы not in xnli: {} / {}'.format(train['xhp'].sum(), len(train)))\r\n",
        "print('test premises not in xnli: {} / {}'.format(test['xpr'].sum(), len(test)))\r\n",
        "print('test гипотезы not in xnli: {} / {}'.format(test['xhp'].sum(), len(test)))"
      ],
      "execution_count": 40,
      "outputs": [
        {
          "output_type": "stream",
          "text": [
            "train premises not in xnli: 6863 / 12120\n",
            "train гипотезы not in xnli: 6870 / 12120\n",
            "test premises not in xnli: 2944 / 5195\n",
            "test гипотезы not in xnli: 2943 / 5195\n"
          ],
          "name": "stdout"
        }
      ]
    },
    {
      "cell_type": "code",
      "metadata": {
        "id": "w_i-oP7Bc9S8"
      },
      "source": [
        ""
      ],
      "execution_count": 40,
      "outputs": []
    }
  ]
}