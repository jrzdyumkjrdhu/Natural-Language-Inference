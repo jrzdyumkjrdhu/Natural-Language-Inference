{
 "cells": [
  {
   "cell_type": "code",
   "execution_count": 1,
   "metadata": {
    "_cell_guid": "20666a1f-e31b-4134-94f8-fea9a50998d3",
    "_uuid": "d3a20929-8e1d-48d2-869c-cc57f8c63cc9",
    "execution": {
     "iopub.execute_input": "2020-12-29T09:12:50.502576Z",
     "iopub.status.busy": "2020-12-29T09:12:50.502039Z",
     "iopub.status.idle": "2020-12-29T09:12:50.510146Z",
     "shell.execute_reply": "2020-12-29T09:12:50.510782Z"
    },
    "papermill": {
     "duration": 0.026914,
     "end_time": "2020-12-29T09:12:50.510950",
     "exception": false,
     "start_time": "2020-12-29T09:12:50.484036",
     "status": "completed"
    },
    "tags": []
   },
   "outputs": [
    {
     "name": "stdout",
     "output_type": "stream",
     "text": [
      "/kaggle/input/contradictory-my-dear-watson/sample_submission.csv\n",
      "/kaggle/input/contradictory-my-dear-watson/train.csv\n",
      "/kaggle/input/contradictory-my-dear-watson/test.csv\n"
     ]
    }
   ],
   "source": [
    "# This Python 3 environment comes with many helpful analytics libraries installed\n",
    "# It is defined by the kaggle/python Docker image: https://github.com/kaggle/docker-python\n",
    "# For example, here's several helpful packages to load\n",
    "\n",
    "import numpy as np # linear algebra\n",
    "import pandas as pd # data processing, CSV file I/O (e.g. pd.read_csv)\n",
    "\n",
    "# Input data files are available in the read-only \"../input/\" directory\n",
    "# For example, running this (by clicking run or pressing Shift+Enter) will list all files under the input directory\n",
    "\n",
    "import os\n",
    "for dirname, _, filenames in os.walk('/kaggle/input'):\n",
    "    for filename in filenames:\n",
    "        print(os.path.join(dirname, filename))\n",
    "\n",
    "# You can write up to 5GB to the current directory (/kaggle/working/) that gets preserved as output when you create a version using \"Save & Run All\" \n",
    "# You can also write temporary files to /kaggle/temp/, but they won't be saved outside of the current session"
   ]
  },
  {
   "cell_type": "code",
   "execution_count": 2,
   "metadata": {
    "execution": {
     "iopub.execute_input": "2020-12-29T09:12:50.537223Z",
     "iopub.status.busy": "2020-12-29T09:12:50.536729Z",
     "iopub.status.idle": "2020-12-29T09:12:59.399805Z",
     "shell.execute_reply": "2020-12-29T09:12:59.399302Z"
    },
    "papermill": {
     "duration": 8.877226,
     "end_time": "2020-12-29T09:12:59.399914",
     "exception": false,
     "start_time": "2020-12-29T09:12:50.522688",
     "status": "completed"
    },
    "tags": []
   },
   "outputs": [],
   "source": [
    "from transformers import DistilBertTokenizer, DistilBertModel\n",
    "import torch\n",
    "import torch.nn as nn\n",
    "import torch.nn.functional as F\n",
    "import torch.optim as optim\n"
   ]
  },
  {
   "cell_type": "markdown",
   "metadata": {
    "_cell_guid": "44a1d22f-053c-4188-b25f-d714aa745016",
    "_uuid": "0b64130f-530a-4560-8afd-462a55fc14b3",
    "papermill": {
     "duration": 0.010558,
     "end_time": "2020-12-29T09:12:59.421665",
     "exception": false,
     "start_time": "2020-12-29T09:12:59.411107",
     "status": "completed"
    },
    "tags": []
   },
   "source": [
    "## Downloading Data"
   ]
  },
  {
   "cell_type": "code",
   "execution_count": 3,
   "metadata": {
    "_cell_guid": "f3ad567b-a156-4ffc-a6f8-1f5e6e989a4e",
    "_uuid": "6e60d19f-aeae-417a-a10a-50cc1d5ee685",
    "execution": {
     "iopub.execute_input": "2020-12-29T09:12:59.450487Z",
     "iopub.status.busy": "2020-12-29T09:12:59.449935Z",
     "iopub.status.idle": "2020-12-29T09:12:59.552668Z",
     "shell.execute_reply": "2020-12-29T09:12:59.551734Z"
    },
    "papermill": {
     "duration": 0.120594,
     "end_time": "2020-12-29T09:12:59.552785",
     "exception": false,
     "start_time": "2020-12-29T09:12:59.432191",
     "status": "completed"
    },
    "tags": []
   },
   "outputs": [],
   "source": [
    "train = pd.read_csv(\"../input/contradictory-my-dear-watson/train.csv\")"
   ]
  },
  {
   "cell_type": "code",
   "execution_count": 4,
   "metadata": {
    "_cell_guid": "7d9b43ef-4ac1-40d5-aebc-a162f1b9a6c0",
    "_uuid": "7243f511-d81e-436c-971f-6328b7c0cf43",
    "execution": {
     "iopub.execute_input": "2020-12-29T09:12:59.597001Z",
     "iopub.status.busy": "2020-12-29T09:12:59.596333Z",
     "iopub.status.idle": "2020-12-29T09:12:59.599797Z",
     "shell.execute_reply": "2020-12-29T09:12:59.599348Z"
    },
    "papermill": {
     "duration": 0.036461,
     "end_time": "2020-12-29T09:12:59.599889",
     "exception": false,
     "start_time": "2020-12-29T09:12:59.563428",
     "status": "completed"
    },
    "tags": []
   },
   "outputs": [],
   "source": [
    "labels, frequencies = np.unique(train.language.values, return_counts = True)"
   ]
  },
  {
   "cell_type": "code",
   "execution_count": 5,
   "metadata": {
    "execution": {
     "iopub.execute_input": "2020-12-29T09:12:59.631480Z",
     "iopub.status.busy": "2020-12-29T09:12:59.629661Z",
     "iopub.status.idle": "2020-12-29T09:12:59.632140Z",
     "shell.execute_reply": "2020-12-29T09:12:59.632637Z"
    },
    "papermill": {
     "duration": 0.020398,
     "end_time": "2020-12-29T09:12:59.632747",
     "exception": false,
     "start_time": "2020-12-29T09:12:59.612349",
     "status": "completed"
    },
    "tags": []
   },
   "outputs": [],
   "source": [
    "device = torch.device(\"cuda:0\")\n",
    "\n"
   ]
  },
  {
   "cell_type": "code",
   "execution_count": 6,
   "metadata": {
    "execution": {
     "iopub.execute_input": "2020-12-29T09:12:59.667425Z",
     "iopub.status.busy": "2020-12-29T09:12:59.666873Z",
     "iopub.status.idle": "2020-12-29T09:12:59.670027Z",
     "shell.execute_reply": "2020-12-29T09:12:59.669574Z"
    },
    "papermill": {
     "duration": 0.0243,
     "end_time": "2020-12-29T09:12:59.670119",
     "exception": false,
     "start_time": "2020-12-29T09:12:59.645819",
     "status": "completed"
    },
    "tags": []
   },
   "outputs": [],
   "source": [
    "premises = list(train['premise'])\n",
    "hypotheses = list(train['hypothesis'])\n",
    "labels = list(train['label'])"
   ]
  },
  {
   "cell_type": "code",
   "execution_count": 7,
   "metadata": {
    "execution": {
     "iopub.execute_input": "2020-12-29T09:12:59.724306Z",
     "iopub.status.busy": "2020-12-29T09:12:59.723450Z",
     "iopub.status.idle": "2020-12-29T09:12:59.729997Z",
     "shell.execute_reply": "2020-12-29T09:12:59.729551Z"
    },
    "papermill": {
     "duration": 0.048286,
     "end_time": "2020-12-29T09:12:59.730078",
     "exception": false,
     "start_time": "2020-12-29T09:12:59.681792",
     "status": "completed"
    },
    "tags": []
   },
   "outputs": [],
   "source": [
    "class Model(nn.Module):\n",
    "\n",
    "    def __init__(self, lmbda=1e-7):\n",
    "        super(Model, self).__init__()\n",
    "        self.tokenizer = DistilBertTokenizer.from_pretrained('distilbert-base-uncased')\n",
    "        self.bert = DistilBertModel.from_pretrained('distilbert-base-uncased').to(device)\n",
    "        self.net = nn.Linear(768, 3).to(device)\n",
    "        self.sm = nn.Softmax(dim=1)\n",
    "        \n",
    "        self.optim = optim.SGD(self.net.parameters(), lr=0.01, momentum=0.9)\n",
    "        \n",
    "        self.lmbda = lmbda\n",
    "        \n",
    "        self.alphas = []\n",
    "        self.ws = []\n",
    "        self.zs = []\n",
    "        self.dz_dalphas = []\n",
    "        self.bert_orig = []\n",
    "        for p in self.bert.parameters():\n",
    "            self.alphas.append(torch.zeros_like(p.data, requires_grad=True) + 5)\n",
    "            self.alphas[-1].retain_grad()\n",
    "            self.ws.append(torch.zeros_like(p.data))\n",
    "            self.zs.append(torch.zeros_like(p.data))\n",
    "            self.dz_dalphas.append(torch.zeros_like(p.data))\n",
    "            self.bert_orig.append(torch.zeros_like(p.data).copy_(p))\n",
    "        \n",
    "    def z_func(self, alpha, l=-1.5, r=1.5):\n",
    "        u = torch.zeros_like(alpha).uniform_().clamp_(0.0001, 0.9999)\n",
    "        s = (torch.sigmoid(u.log() - (1 - u).log() + alpha)).detach()\n",
    "        u = s * (r - l) + l\n",
    "        t = u.clamp(0, 1000)\n",
    "        z = t.clamp(-1000, 1)\n",
    "        dz_dt = (t < 1).float().to(alpha.device).detach()\n",
    "        dt_du = (u > 0).float().to(alpha.device).detach()\n",
    "        du_ds = r - l\n",
    "        ds_dalpha = (s * (1 - s)).detach()\n",
    "        dz_dalpha = dz_dt * dt_du * du_ds * ds_dalpha\n",
    "        return z.detach(), dz_dalpha.detach()\n",
    "        \n",
    "    def step(self, lr=0.01):\n",
    "        bert_params = list(self.bert.parameters())\n",
    "        for i in range(len(bert_params)):\n",
    "            grad = bert_params[i].grad\n",
    "            grad_w = self.zs[i] * grad\n",
    "            grad_alpha = self.ws[i] * self.dz_dalphas[i] * grad\n",
    "            self.ws[i] -= lr * grad_w\n",
    "            self.alphas[i] -= lr * (grad_alpha + self.lmbda * self.alphas[i].grad) \n",
    "            z, dz_da = self.z_func(self.alphas[i])\n",
    "            self.zs[i] = z\n",
    "            self.dz_dalphas[i] = dz_da\n",
    "            bert_params[i].data = bert_params[i].data.copy_(self.bert_orig[i]) + z * self.ws[i]\n",
    "            \n",
    "            bert_params[i].grad.detach_()\n",
    "            bert_params[i].grad.zero_()\n",
    "            self.alphas[i].grad.detach_()\n",
    "            self.alphas[i].grad.zero_()\n",
    "            \n",
    "            self.optim.step()\n",
    "            self.optim.zero_grad()\n",
    "    \n",
    "            \n",
    "    \n",
    "    def apply(self, premises, hypotheses):\n",
    "        tokenized = [self.tokenizer.encode(prem, hyp, add_special_tokens=True) for prem, hyp in zip(premises, hypotheses)]\n",
    "        max_len = 0\n",
    "        for i in tokenized:\n",
    "            if len(i) > max_len:\n",
    "                max_len = len(i)\n",
    "        padded = np.array([i + [0]*(max_len-len(i)) for i in tokenized])\n",
    "        attention_mask = np.where(padded != 0, 1, 0)\n",
    "\n",
    "        input_ids = torch.tensor(padded).to(device)\n",
    "        attention_mask = torch.tensor(attention_mask).to(device)\n",
    "#         print(torch.cuda.memory_stats(device)['allocated_bytes.all.current']/1024/1024/1024)\n",
    "        \n",
    "        last_hidden_states = self.bert(input_ids, attention_mask=attention_mask)\n",
    "        \n",
    "#         print(torch.cuda.memory_stats(device)['allocated_bytes.all.current']/1024/1024/1024)\n",
    "        hidden = last_hidden_states[0][:,0,:]\n",
    "        return self.sm(self.net(hidden))\n",
    "    \n",
    "    \n",
    "    def alpha_reg(self):\n",
    "        for a in self.alphas:\n",
    "            torch.sigmoid(a).sum().backward()"
   ]
  },
  {
   "cell_type": "code",
   "execution_count": 8,
   "metadata": {
    "execution": {
     "iopub.execute_input": "2020-12-29T09:12:59.757538Z",
     "iopub.status.busy": "2020-12-29T09:12:59.756787Z",
     "iopub.status.idle": "2020-12-29T09:13:35.972597Z",
     "shell.execute_reply": "2020-12-29T09:13:35.971540Z"
    },
    "papermill": {
     "duration": 36.230055,
     "end_time": "2020-12-29T09:13:35.972732",
     "exception": false,
     "start_time": "2020-12-29T09:12:59.742677",
     "status": "completed"
    },
    "tags": []
   },
   "outputs": [
    {
     "data": {
      "application/vnd.jupyter.widget-view+json": {
       "model_id": "900a71d6469d4a4dbcbff10b6328744e",
       "version_major": 2,
       "version_minor": 0
      },
      "text/plain": [
       "HBox(children=(FloatProgress(value=0.0, description='Downloading', max=231508.0, style=ProgressStyle(descripti…"
      ]
     },
     "metadata": {},
     "output_type": "display_data"
    },
    {
     "name": "stdout",
     "output_type": "stream",
     "text": [
      "\n"
     ]
    },
    {
     "data": {
      "application/vnd.jupyter.widget-view+json": {
       "model_id": "b322fc1cfacf4d5ea2f52680fc47dfc0",
       "version_major": 2,
       "version_minor": 0
      },
      "text/plain": [
       "HBox(children=(FloatProgress(value=0.0, description='Downloading', max=442.0, style=ProgressStyle(description_…"
      ]
     },
     "metadata": {},
     "output_type": "display_data"
    },
    {
     "name": "stdout",
     "output_type": "stream",
     "text": [
      "\n"
     ]
    },
    {
     "data": {
      "application/vnd.jupyter.widget-view+json": {
       "model_id": "0511c3a8157f4366a555d1530330dac2",
       "version_major": 2,
       "version_minor": 0
      },
      "text/plain": [
       "HBox(children=(FloatProgress(value=0.0, description='Downloading', max=267967963.0, style=ProgressStyle(descri…"
      ]
     },
     "metadata": {},
     "output_type": "display_data"
    },
    {
     "name": "stdout",
     "output_type": "stream",
     "text": [
      "\n"
     ]
    }
   ],
   "source": [
    "model = Model()"
   ]
  },
  {
   "cell_type": "code",
   "execution_count": 9,
   "metadata": {
    "execution": {
     "iopub.execute_input": "2020-12-29T09:13:36.022282Z",
     "iopub.status.busy": "2020-12-29T09:13:36.017128Z",
     "iopub.status.idle": "2020-12-29T09:47:09.526006Z",
     "shell.execute_reply": "2020-12-29T09:47:09.525022Z"
    },
    "papermill": {
     "duration": 2013.539863,
     "end_time": "2020-12-29T09:47:09.526135",
     "exception": false,
     "start_time": "2020-12-29T09:13:35.986272",
     "status": "completed"
    },
    "tags": []
   },
   "outputs": [
    {
     "name": "stdout",
     "output_type": "stream",
     "text": [
      "0 0 :  0.15625\n",
      "0 10 :  0.328125\n",
      "0 20 :  0.33035713\n",
      "0 30 :  0.3266129\n",
      "0 40 :  0.3285061\n",
      "0 50 :  0.33180147\n",
      "0 60 :  0.33478484\n",
      "0 70 :  0.33758804\n",
      "0 80 :  0.33738425\n",
      "0 90 :  0.3372253\n",
      "0 100 :  0.34046876\n",
      "0 110 :  0.3421875\n",
      "0 120 :  0.34234375\n",
      "0 130 :  0.345625\n",
      "0 140 :  0.34515625\n",
      "0 150 :  0.34609374\n",
      "0 160 :  0.3446875\n",
      "0 170 :  0.3459375\n",
      "0 180 :  0.34875\n",
      "1 0 :  0.3125\n",
      "1 10 :  0.36789772\n",
      "1 20 :  0.3705357\n",
      "1 30 :  0.3719758\n",
      "1 40 :  0.37271342\n",
      "1 50 :  0.37683824\n",
      "1 60 :  0.38755122\n",
      "1 70 :  0.3912852\n",
      "1 80 :  0.3940972\n",
      "1 90 :  0.4002404\n",
      "1 100 :  0.40421876\n",
      "1 110 :  0.41\n",
      "1 120 :  0.41546875\n",
      "1 130 :  0.42171875\n",
      "1 140 :  0.43046874\n",
      "1 150 :  0.4359375\n",
      "1 160 :  0.43390626\n",
      "1 170 :  0.43859375\n",
      "1 180 :  0.443125\n",
      "2 0 :  0.375\n",
      "2 10 :  0.44460228\n",
      "2 20 :  0.43973213\n",
      "2 30 :  0.45060483\n",
      "2 40 :  0.45541158\n",
      "2 50 :  0.4574142\n",
      "2 60 :  0.46849385\n",
      "2 70 :  0.4740317\n",
      "2 80 :  0.47878087\n",
      "2 90 :  0.48094094\n",
      "2 100 :  0.483125\n",
      "2 110 :  0.48875\n",
      "2 120 :  0.494375\n",
      "2 130 :  0.498125\n",
      "2 140 :  0.5053125\n",
      "2 150 :  0.5101563\n",
      "2 160 :  0.5065625\n",
      "2 170 :  0.50609374\n",
      "2 180 :  0.50859374\n",
      "3 0 :  0.390625\n",
      "3 10 :  0.49573863\n",
      "3 20 :  0.50446427\n",
      "3 30 :  0.51159275\n",
      "3 40 :  0.5152439\n",
      "3 50 :  0.518076\n",
      "3 60 :  0.52740777\n",
      "3 70 :  0.53235036\n",
      "3 80 :  0.5358796\n",
      "3 90 :  0.53674453\n",
      "3 100 :  0.540625\n",
      "3 110 :  0.54375\n",
      "3 120 :  0.5467188\n",
      "3 130 :  0.5470312\n",
      "3 140 :  0.5517188\n",
      "3 150 :  0.5534375\n",
      "3 160 :  0.546875\n",
      "3 170 :  0.5446875\n",
      "3 180 :  0.54625\n",
      "4 0 :  0.46875\n",
      "4 10 :  0.54545456\n",
      "4 20 :  0.5572917\n",
      "4 30 :  0.5604839\n",
      "4 40 :  0.5609756\n",
      "4 50 :  0.5612745\n",
      "4 60 :  0.56582993\n",
      "4 70 :  0.56932217\n",
      "4 80 :  0.572338\n",
      "4 90 :  0.5740041\n",
      "4 100 :  0.5771875\n",
      "4 110 :  0.5803125\n",
      "4 120 :  0.5807812\n",
      "4 130 :  0.58125\n",
      "4 140 :  0.5865625\n",
      "4 150 :  0.59046876\n",
      "4 160 :  0.5857813\n",
      "4 170 :  0.5835937\n",
      "4 180 :  0.58484375\n",
      "5 0 :  0.546875\n",
      "5 10 :  0.5823864\n",
      "5 20 :  0.59300596\n",
      "5 30 :  0.5922379\n",
      "5 40 :  0.5990854\n",
      "5 50 :  0.5992647\n",
      "5 60 :  0.602459\n",
      "5 70 :  0.6040933\n",
      "5 80 :  0.6064815\n",
      "5 90 :  0.6095467\n",
      "5 100 :  0.6125\n",
      "5 110 :  0.61265624\n",
      "5 120 :  0.6120312\n",
      "5 130 :  0.6140625\n",
      "5 140 :  0.61921877\n",
      "5 150 :  0.6226562\n",
      "5 160 :  0.6203125\n",
      "5 170 :  0.62125\n",
      "5 180 :  0.62359375\n",
      "6 0 :  0.5625\n",
      "6 10 :  0.6292614\n",
      "6 20 :  0.63095236\n",
      "6 30 :  0.6260081\n",
      "6 40 :  0.63338417\n",
      "6 50 :  0.63082105\n",
      "6 60 :  0.6334529\n",
      "6 70 :  0.63380283\n",
      "6 80 :  0.634838\n",
      "6 90 :  0.63890797\n",
      "6 100 :  0.63984376\n",
      "6 110 :  0.64109373\n",
      "6 120 :  0.6407812\n",
      "6 130 :  0.6435937\n",
      "6 140 :  0.6453125\n",
      "6 150 :  0.650625\n",
      "6 160 :  0.64875\n",
      "6 170 :  0.6507813\n",
      "6 180 :  0.6553125\n",
      "7 0 :  0.625\n",
      "7 10 :  0.67471594\n",
      "7 20 :  0.6785714\n",
      "7 30 :  0.67439514\n",
      "7 40 :  0.67759144\n",
      "7 50 :  0.6755515\n",
      "7 60 :  0.6782787\n",
      "7 70 :  0.6784771\n",
      "7 80 :  0.67631173\n",
      "7 90 :  0.6787431\n",
      "7 100 :  0.68\n",
      "7 110 :  0.67875\n",
      "7 120 :  0.67796874\n",
      "7 130 :  0.679375\n",
      "7 140 :  0.6815625\n",
      "7 150 :  0.683125\n",
      "7 160 :  0.6821875\n",
      "7 170 :  0.6848438\n",
      "7 180 :  0.69140625\n",
      "8 0 :  0.703125\n",
      "8 10 :  0.70454544\n",
      "8 20 :  0.7157738\n",
      "8 30 :  0.7121976\n",
      "8 40 :  0.71417683\n",
      "8 50 :  0.7159926\n",
      "8 60 :  0.7179816\n",
      "8 70 :  0.71941024\n",
      "8 80 :  0.7189429\n",
      "8 90 :  0.7208104\n",
      "8 100 :  0.72296876\n",
      "8 110 :  0.72265625\n",
      "8 120 :  0.71875\n",
      "8 130 :  0.71921873\n",
      "8 140 :  0.72078127\n",
      "8 150 :  0.72328126\n",
      "8 160 :  0.721875\n",
      "8 170 :  0.7234375\n",
      "8 180 :  0.72703123\n",
      "9 0 :  0.53125\n",
      "9 10 :  0.7073864\n",
      "9 20 :  0.72321427\n",
      "9 30 :  0.7217742\n",
      "9 40 :  0.72484756\n",
      "9 50 :  0.72855395\n",
      "9 60 :  0.7323258\n",
      "9 70 :  0.73261446\n",
      "9 80 :  0.7347608\n",
      "9 90 :  0.7384959\n",
      "9 100 :  0.74109375\n",
      "9 110 :  0.7425\n",
      "9 120 :  0.74140626\n",
      "9 130 :  0.74390626\n",
      "9 140 :  0.7478125\n",
      "9 150 :  0.75078124\n",
      "9 160 :  0.7503125\n",
      "9 170 :  0.7523438\n",
      "9 180 :  0.7554687\n"
     ]
    }
   ],
   "source": [
    "loss_f = nn.CrossEntropyLoss()\n",
    "batch_size = 64\n",
    "\n",
    "for epoch in range(10):\n",
    "    means = []\n",
    "    for i in range(len(premises) // batch_size + 1):\n",
    "        output = model.apply(premises[i * batch_size: (i+1) * batch_size], hypotheses[i * batch_size: (i+1) * batch_size])\n",
    "        y = torch.Tensor(labels[i * batch_size: (i+1) * batch_size]).type(torch.LongTensor).to(device)\n",
    "        loss = loss_f(output, y)\n",
    "        means.append(torch.mean((torch.argmax(output, dim=1)==y).type(torch.FloatTensor)))\n",
    "        loss.backward()\n",
    "        model.alpha_reg()\n",
    "        model.step()\n",
    "        if(i%10 == 0):\n",
    "            print(epoch, i, \": \", np.mean(means[-100:]))"
   ]
  },
  {
   "cell_type": "code",
   "execution_count": 10,
   "metadata": {
    "execution": {
     "iopub.execute_input": "2020-12-29T09:47:09.662076Z",
     "iopub.status.busy": "2020-12-29T09:47:09.661493Z",
     "iopub.status.idle": "2020-12-29T09:47:09.716628Z",
     "shell.execute_reply": "2020-12-29T09:47:09.715777Z"
    },
    "papermill": {
     "duration": 0.125993,
     "end_time": "2020-12-29T09:47:09.716751",
     "exception": false,
     "start_time": "2020-12-29T09:47:09.590758",
     "status": "completed"
    },
    "tags": []
   },
   "outputs": [],
   "source": [
    "test = pd.read_csv(\"../input/contradictory-my-dear-watson/test.csv\")"
   ]
  },
  {
   "cell_type": "code",
   "execution_count": 11,
   "metadata": {
    "execution": {
     "iopub.execute_input": "2020-12-29T09:47:09.849826Z",
     "iopub.status.busy": "2020-12-29T09:47:09.849260Z",
     "iopub.status.idle": "2020-12-29T09:47:09.853184Z",
     "shell.execute_reply": "2020-12-29T09:47:09.852730Z"
    },
    "papermill": {
     "duration": 0.071404,
     "end_time": "2020-12-29T09:47:09.853276",
     "exception": false,
     "start_time": "2020-12-29T09:47:09.781872",
     "status": "completed"
    },
    "tags": []
   },
   "outputs": [],
   "source": [
    "result = []"
   ]
  },
  {
   "cell_type": "code",
   "execution_count": 12,
   "metadata": {
    "execution": {
     "iopub.execute_input": "2020-12-29T09:47:10.012297Z",
     "iopub.status.busy": "2020-12-29T09:47:09.996964Z",
     "iopub.status.idle": "2020-12-29T09:47:33.646274Z",
     "shell.execute_reply": "2020-12-29T09:47:33.645568Z"
    },
    "papermill": {
     "duration": 23.727465,
     "end_time": "2020-12-29T09:47:33.646417",
     "exception": false,
     "start_time": "2020-12-29T09:47:09.918952",
     "status": "completed"
    },
    "tags": []
   },
   "outputs": [
    {
     "name": "stdout",
     "output_type": "stream",
     "text": [
      "0 / 81\n",
      "1 / 81\n",
      "2 / 81\n",
      "3 / 81\n",
      "4 / 81\n",
      "5 / 81\n",
      "6 / 81\n",
      "7 / 81\n",
      "8 / 81\n",
      "9 / 81\n",
      "10 / 81\n",
      "11 / 81\n",
      "12 / 81\n",
      "13 / 81\n",
      "14 / 81\n",
      "15 / 81\n",
      "16 / 81\n",
      "17 / 81\n",
      "18 / 81\n",
      "19 / 81\n",
      "20 / 81\n",
      "21 / 81\n",
      "22 / 81\n",
      "23 / 81\n",
      "24 / 81\n",
      "25 / 81\n",
      "26 / 81\n",
      "27 / 81\n",
      "28 / 81\n",
      "29 / 81\n",
      "30 / 81\n",
      "31 / 81\n",
      "32 / 81\n",
      "33 / 81\n",
      "34 / 81\n",
      "35 / 81\n",
      "36 / 81\n",
      "37 / 81\n",
      "38 / 81\n",
      "39 / 81\n",
      "40 / 81\n",
      "41 / 81\n",
      "42 / 81\n",
      "43 / 81\n",
      "44 / 81\n",
      "45 / 81\n",
      "46 / 81\n",
      "47 / 81\n",
      "48 / 81\n",
      "49 / 81\n",
      "50 / 81\n",
      "51 / 81\n",
      "52 / 81\n",
      "53 / 81\n",
      "54 / 81\n",
      "55 / 81\n",
      "56 / 81\n",
      "57 / 81\n",
      "58 / 81\n",
      "59 / 81\n",
      "60 / 81\n",
      "61 / 81\n",
      "62 / 81\n",
      "63 / 81\n",
      "64 / 81\n",
      "65 / 81\n",
      "66 / 81\n",
      "67 / 81\n",
      "68 / 81\n",
      "69 / 81\n",
      "70 / 81\n",
      "71 / 81\n",
      "72 / 81\n",
      "73 / 81\n",
      "74 / 81\n",
      "75 / 81\n",
      "76 / 81\n",
      "77 / 81\n",
      "78 / 81\n",
      "79 / 81\n",
      "80 / 81\n",
      "81 / 81\n"
     ]
    }
   ],
   "source": [
    "for i in range(len(test.premise.values) // batch_size + 1):\n",
    "    print(i, '/', len(test.premise.values) // batch_size)\n",
    "    with torch.no_grad():\n",
    "        output = model.apply(test.premise.values[i * batch_size: (i+1) * batch_size], test.hypothesis.values[i * batch_size: (i+1) * batch_size])\n",
    "    result += list((torch.argmax(output, dim=1)).cpu().numpy())"
   ]
  },
  {
   "cell_type": "code",
   "execution_count": 13,
   "metadata": {
    "_cell_guid": "add7302f-ae26-4e78-b69d-858cacb35991",
    "_uuid": "9e0e34fa-1ef7-4207-a5c3-c21863c7be27",
    "execution": {
     "iopub.execute_input": "2020-12-29T09:47:33.857323Z",
     "iopub.status.busy": "2020-12-29T09:47:33.855574Z",
     "iopub.status.idle": "2020-12-29T09:47:33.857934Z",
     "shell.execute_reply": "2020-12-29T09:47:33.858361Z"
    },
    "papermill": {
     "duration": 0.099124,
     "end_time": "2020-12-29T09:47:33.858466",
     "exception": false,
     "start_time": "2020-12-29T09:47:33.759342",
     "status": "completed"
    },
    "tags": []
   },
   "outputs": [],
   "source": [
    "submission = test.id.copy().to_frame()\n",
    "submission['prediction'] = result"
   ]
  },
  {
   "cell_type": "code",
   "execution_count": 14,
   "metadata": {
    "_cell_guid": "d4fdefdc-4839-4962-ae75-6807390a6de7",
    "_uuid": "1d4999aa-10d2-4a88-962a-8f10bded837b",
    "execution": {
     "iopub.execute_input": "2020-12-29T09:47:34.047232Z",
     "iopub.status.busy": "2020-12-29T09:47:34.046601Z",
     "iopub.status.idle": "2020-12-29T09:47:34.055426Z",
     "shell.execute_reply": "2020-12-29T09:47:34.055851Z"
    },
    "papermill": {
     "duration": 0.107826,
     "end_time": "2020-12-29T09:47:34.055968",
     "exception": false,
     "start_time": "2020-12-29T09:47:33.948142",
     "status": "completed"
    },
    "tags": []
   },
   "outputs": [
    {
     "data": {
      "text/html": [
       "<div>\n",
       "<style scoped>\n",
       "    .dataframe tbody tr th:only-of-type {\n",
       "        vertical-align: middle;\n",
       "    }\n",
       "\n",
       "    .dataframe tbody tr th {\n",
       "        vertical-align: top;\n",
       "    }\n",
       "\n",
       "    .dataframe thead th {\n",
       "        text-align: right;\n",
       "    }\n",
       "</style>\n",
       "<table border=\"1\" class=\"dataframe\">\n",
       "  <thead>\n",
       "    <tr style=\"text-align: right;\">\n",
       "      <th></th>\n",
       "      <th>id</th>\n",
       "      <th>prediction</th>\n",
       "    </tr>\n",
       "  </thead>\n",
       "  <tbody>\n",
       "    <tr>\n",
       "      <th>0</th>\n",
       "      <td>c6d58c3f69</td>\n",
       "      <td>1</td>\n",
       "    </tr>\n",
       "    <tr>\n",
       "      <th>1</th>\n",
       "      <td>cefcc82292</td>\n",
       "      <td>1</td>\n",
       "    </tr>\n",
       "    <tr>\n",
       "      <th>2</th>\n",
       "      <td>e98005252c</td>\n",
       "      <td>0</td>\n",
       "    </tr>\n",
       "    <tr>\n",
       "      <th>3</th>\n",
       "      <td>58518c10ba</td>\n",
       "      <td>1</td>\n",
       "    </tr>\n",
       "    <tr>\n",
       "      <th>4</th>\n",
       "      <td>c32b0d16df</td>\n",
       "      <td>2</td>\n",
       "    </tr>\n",
       "  </tbody>\n",
       "</table>\n",
       "</div>"
      ],
      "text/plain": [
       "           id  prediction\n",
       "0  c6d58c3f69           1\n",
       "1  cefcc82292           1\n",
       "2  e98005252c           0\n",
       "3  58518c10ba           1\n",
       "4  c32b0d16df           2"
      ]
     },
     "execution_count": 14,
     "metadata": {},
     "output_type": "execute_result"
    }
   ],
   "source": [
    "submission.head()"
   ]
  },
  {
   "cell_type": "code",
   "execution_count": 15,
   "metadata": {
    "_cell_guid": "84abe9e3-ef04-4dac-97d2-2308a0f11313",
    "_uuid": "b8463f7e-8b2f-4c24-8eb3-a35ec02a2d6e",
    "execution": {
     "iopub.execute_input": "2020-12-29T09:47:34.238849Z",
     "iopub.status.busy": "2020-12-29T09:47:34.238015Z",
     "iopub.status.idle": "2020-12-29T09:47:34.449565Z",
     "shell.execute_reply": "2020-12-29T09:47:34.448753Z"
    },
    "papermill": {
     "duration": 0.3046,
     "end_time": "2020-12-29T09:47:34.449702",
     "exception": false,
     "start_time": "2020-12-29T09:47:34.145102",
     "status": "completed"
    },
    "tags": []
   },
   "outputs": [],
   "source": [
    "submission.to_csv(\"submission.csv\", index = False)"
   ]
  },
  {
   "cell_type": "code",
   "execution_count": null,
   "metadata": {
    "papermill": {
     "duration": 0.087696,
     "end_time": "2020-12-29T09:47:34.625019",
     "exception": false,
     "start_time": "2020-12-29T09:47:34.537323",
     "status": "completed"
    },
    "tags": []
   },
   "outputs": [],
   "source": []
  }
 ],
 "metadata": {
  "kernelspec": {
   "display_name": "Python 3",
   "language": "python",
   "name": "python3"
  },
  "language_info": {
   "codemirror_mode": {
    "name": "ipython",
    "version": 3
   },
   "file_extension": ".py",
   "mimetype": "text/x-python",
   "name": "python",
   "nbconvert_exporter": "python",
   "pygments_lexer": "ipython3",
   "version": "3.7.6"
  },
  "papermill": {
   "duration": 2089.364002,
   "end_time": "2020-12-29T09:47:35.787010",
   "environment_variables": {},
   "exception": null,
   "input_path": "__notebook__.ipynb",
   "output_path": "__notebook__.ipynb",
   "parameters": {},
   "start_time": "2020-12-29T09:12:46.423008",
   "version": "2.1.0"
  },
  "widgets": {
   "application/vnd.jupyter.widget-state+json": {
    "state": {
     "02e4c188db34496fb95a9466621096aa": {
      "model_module": "@jupyter-widgets/base",
      "model_module_version": "1.2.0",
      "model_name": "LayoutModel",
      "state": {
       "_model_module": "@jupyter-widgets/base",
       "_model_module_version": "1.2.0",
       "_model_name": "LayoutModel",
       "_view_count": null,
       "_view_module": "@jupyter-widgets/base",
       "_view_module_version": "1.2.0",
       "_view_name": "LayoutView",
       "align_content": null,
       "align_items": null,
       "align_self": null,
       "border": null,
       "bottom": null,
       "display": null,
       "flex": null,
       "flex_flow": null,
       "grid_area": null,
       "grid_auto_columns": null,
       "grid_auto_flow": null,
       "grid_auto_rows": null,
       "grid_column": null,
       "grid_gap": null,
       "grid_row": null,
       "grid_template_areas": null,
       "grid_template_columns": null,
       "grid_template_rows": null,
       "height": null,
       "justify_content": null,
       "justify_items": null,
       "left": null,
       "margin": null,
       "max_height": null,
       "max_width": null,
       "min_height": null,
       "min_width": null,
       "object_fit": null,
       "object_position": null,
       "order": null,
       "overflow": null,
       "overflow_x": null,
       "overflow_y": null,
       "padding": null,
       "right": null,
       "top": null,
       "visibility": null,
       "width": null
      }
     },
     "0511c3a8157f4366a555d1530330dac2": {
      "model_module": "@jupyter-widgets/controls",
      "model_module_version": "1.5.0",
      "model_name": "HBoxModel",
      "state": {
       "_dom_classes": [],
       "_model_module": "@jupyter-widgets/controls",
       "_model_module_version": "1.5.0",
       "_model_name": "HBoxModel",
       "_view_count": null,
       "_view_module": "@jupyter-widgets/controls",
       "_view_module_version": "1.5.0",
       "_view_name": "HBoxView",
       "box_style": "",
       "children": [
        "IPY_MODEL_fddd938428bf4987bd351071cc8b660b",
        "IPY_MODEL_1701507482f54924b0f7b745d3ae78e3"
       ],
       "layout": "IPY_MODEL_8048f6815c664f54a7a8cbe28d316f9e"
      }
     },
     "1701507482f54924b0f7b745d3ae78e3": {
      "model_module": "@jupyter-widgets/controls",
      "model_module_version": "1.5.0",
      "model_name": "HTMLModel",
      "state": {
       "_dom_classes": [],
       "_model_module": "@jupyter-widgets/controls",
       "_model_module_version": "1.5.0",
       "_model_name": "HTMLModel",
       "_view_count": null,
       "_view_module": "@jupyter-widgets/controls",
       "_view_module_version": "1.5.0",
       "_view_name": "HTMLView",
       "description": "",
       "description_tooltip": null,
       "layout": "IPY_MODEL_f99a91e6977841d8a3a9df8812172d5c",
       "placeholder": "​",
       "style": "IPY_MODEL_f59ef5c2a2694747a6a4e55c749d6a39",
       "value": " 268M/268M [00:24&lt;00:00, 11.1MB/s]"
      }
     },
     "178c5d5bf914432ea07ac8df01755b7d": {
      "model_module": "@jupyter-widgets/controls",
      "model_module_version": "1.5.0",
      "model_name": "FloatProgressModel",
      "state": {
       "_dom_classes": [],
       "_model_module": "@jupyter-widgets/controls",
       "_model_module_version": "1.5.0",
       "_model_name": "FloatProgressModel",
       "_view_count": null,
       "_view_module": "@jupyter-widgets/controls",
       "_view_module_version": "1.5.0",
       "_view_name": "ProgressView",
       "bar_style": "success",
       "description": "Downloading: 100%",
       "description_tooltip": null,
       "layout": "IPY_MODEL_ab0ac8e1cf6b482b840562348c927e41",
       "max": 442.0,
       "min": 0.0,
       "orientation": "horizontal",
       "style": "IPY_MODEL_a21ed21eb97a41c89651cf6e5217c216",
       "value": 442.0
      }
     },
     "56c81075b76e4863ab47e709fbd19703": {
      "model_module": "@jupyter-widgets/base",
      "model_module_version": "1.2.0",
      "model_name": "LayoutModel",
      "state": {
       "_model_module": "@jupyter-widgets/base",
       "_model_module_version": "1.2.0",
       "_model_name": "LayoutModel",
       "_view_count": null,
       "_view_module": "@jupyter-widgets/base",
       "_view_module_version": "1.2.0",
       "_view_name": "LayoutView",
       "align_content": null,
       "align_items": null,
       "align_self": null,
       "border": null,
       "bottom": null,
       "display": null,
       "flex": null,
       "flex_flow": null,
       "grid_area": null,
       "grid_auto_columns": null,
       "grid_auto_flow": null,
       "grid_auto_rows": null,
       "grid_column": null,
       "grid_gap": null,
       "grid_row": null,
       "grid_template_areas": null,
       "grid_template_columns": null,
       "grid_template_rows": null,
       "height": null,
       "justify_content": null,
       "justify_items": null,
       "left": null,
       "margin": null,
       "max_height": null,
       "max_width": null,
       "min_height": null,
       "min_width": null,
       "object_fit": null,
       "object_position": null,
       "order": null,
       "overflow": null,
       "overflow_x": null,
       "overflow_y": null,
       "padding": null,
       "right": null,
       "top": null,
       "visibility": null,
       "width": null
      }
     },
     "65d02990bcb84f4f90e080f375d2778d": {
      "model_module": "@jupyter-widgets/controls",
      "model_module_version": "1.5.0",
      "model_name": "ProgressStyleModel",
      "state": {
       "_model_module": "@jupyter-widgets/controls",
       "_model_module_version": "1.5.0",
       "_model_name": "ProgressStyleModel",
       "_view_count": null,
       "_view_module": "@jupyter-widgets/base",
       "_view_module_version": "1.2.0",
       "_view_name": "StyleView",
       "bar_color": null,
       "description_width": "initial"
      }
     },
     "672ed90d2371434abb35e002cdef28f5": {
      "model_module": "@jupyter-widgets/base",
      "model_module_version": "1.2.0",
      "model_name": "LayoutModel",
      "state": {
       "_model_module": "@jupyter-widgets/base",
       "_model_module_version": "1.2.0",
       "_model_name": "LayoutModel",
       "_view_count": null,
       "_view_module": "@jupyter-widgets/base",
       "_view_module_version": "1.2.0",
       "_view_name": "LayoutView",
       "align_content": null,
       "align_items": null,
       "align_self": null,
       "border": null,
       "bottom": null,
       "display": null,
       "flex": null,
       "flex_flow": null,
       "grid_area": null,
       "grid_auto_columns": null,
       "grid_auto_flow": null,
       "grid_auto_rows": null,
       "grid_column": null,
       "grid_gap": null,
       "grid_row": null,
       "grid_template_areas": null,
       "grid_template_columns": null,
       "grid_template_rows": null,
       "height": null,
       "justify_content": null,
       "justify_items": null,
       "left": null,
       "margin": null,
       "max_height": null,
       "max_width": null,
       "min_height": null,
       "min_width": null,
       "object_fit": null,
       "object_position": null,
       "order": null,
       "overflow": null,
       "overflow_x": null,
       "overflow_y": null,
       "padding": null,
       "right": null,
       "top": null,
       "visibility": null,
       "width": null
      }
     },
     "75810592d06a49d1aeac2187c9aac566": {
      "model_module": "@jupyter-widgets/controls",
      "model_module_version": "1.5.0",
      "model_name": "DescriptionStyleModel",
      "state": {
       "_model_module": "@jupyter-widgets/controls",
       "_model_module_version": "1.5.0",
       "_model_name": "DescriptionStyleModel",
       "_view_count": null,
       "_view_module": "@jupyter-widgets/base",
       "_view_module_version": "1.2.0",
       "_view_name": "StyleView",
       "description_width": ""
      }
     },
     "78d171b22ae14e5084fcb0da745573c6": {
      "model_module": "@jupyter-widgets/controls",
      "model_module_version": "1.5.0",
      "model_name": "HTMLModel",
      "state": {
       "_dom_classes": [],
       "_model_module": "@jupyter-widgets/controls",
       "_model_module_version": "1.5.0",
       "_model_name": "HTMLModel",
       "_view_count": null,
       "_view_module": "@jupyter-widgets/controls",
       "_view_module_version": "1.5.0",
       "_view_name": "HTMLView",
       "description": "",
       "description_tooltip": null,
       "layout": "IPY_MODEL_56c81075b76e4863ab47e709fbd19703",
       "placeholder": "​",
       "style": "IPY_MODEL_f433c28f6a4248bdbd49c2ed66f19319",
       "value": " 442/442 [00:01&lt;00:00, 295B/s]"
      }
     },
     "8048f6815c664f54a7a8cbe28d316f9e": {
      "model_module": "@jupyter-widgets/base",
      "model_module_version": "1.2.0",
      "model_name": "LayoutModel",
      "state": {
       "_model_module": "@jupyter-widgets/base",
       "_model_module_version": "1.2.0",
       "_model_name": "LayoutModel",
       "_view_count": null,
       "_view_module": "@jupyter-widgets/base",
       "_view_module_version": "1.2.0",
       "_view_name": "LayoutView",
       "align_content": null,
       "align_items": null,
       "align_self": null,
       "border": null,
       "bottom": null,
       "display": null,
       "flex": null,
       "flex_flow": null,
       "grid_area": null,
       "grid_auto_columns": null,
       "grid_auto_flow": null,
       "grid_auto_rows": null,
       "grid_column": null,
       "grid_gap": null,
       "grid_row": null,
       "grid_template_areas": null,
       "grid_template_columns": null,
       "grid_template_rows": null,
       "height": null,
       "justify_content": null,
       "justify_items": null,
       "left": null,
       "margin": null,
       "max_height": null,
       "max_width": null,
       "min_height": null,
       "min_width": null,
       "object_fit": null,
       "object_position": null,
       "order": null,
       "overflow": null,
       "overflow_x": null,
       "overflow_y": null,
       "padding": null,
       "right": null,
       "top": null,
       "visibility": null,
       "width": null
      }
     },
     "8f57fa965d6b404c84ae131500679ac2": {
      "model_module": "@jupyter-widgets/base",
      "model_module_version": "1.2.0",
      "model_name": "LayoutModel",
      "state": {
       "_model_module": "@jupyter-widgets/base",
       "_model_module_version": "1.2.0",
       "_model_name": "LayoutModel",
       "_view_count": null,
       "_view_module": "@jupyter-widgets/base",
       "_view_module_version": "1.2.0",
       "_view_name": "LayoutView",
       "align_content": null,
       "align_items": null,
       "align_self": null,
       "border": null,
       "bottom": null,
       "display": null,
       "flex": null,
       "flex_flow": null,
       "grid_area": null,
       "grid_auto_columns": null,
       "grid_auto_flow": null,
       "grid_auto_rows": null,
       "grid_column": null,
       "grid_gap": null,
       "grid_row": null,
       "grid_template_areas": null,
       "grid_template_columns": null,
       "grid_template_rows": null,
       "height": null,
       "justify_content": null,
       "justify_items": null,
       "left": null,
       "margin": null,
       "max_height": null,
       "max_width": null,
       "min_height": null,
       "min_width": null,
       "object_fit": null,
       "object_position": null,
       "order": null,
       "overflow": null,
       "overflow_x": null,
       "overflow_y": null,
       "padding": null,
       "right": null,
       "top": null,
       "visibility": null,
       "width": null
      }
     },
     "900a71d6469d4a4dbcbff10b6328744e": {
      "model_module": "@jupyter-widgets/controls",
      "model_module_version": "1.5.0",
      "model_name": "HBoxModel",
      "state": {
       "_dom_classes": [],
       "_model_module": "@jupyter-widgets/controls",
       "_model_module_version": "1.5.0",
       "_model_name": "HBoxModel",
       "_view_count": null,
       "_view_module": "@jupyter-widgets/controls",
       "_view_module_version": "1.5.0",
       "_view_name": "HBoxView",
       "box_style": "",
       "children": [
        "IPY_MODEL_c23d9d74962b4f579ee78ffc8a521899",
        "IPY_MODEL_d55d819d0fc542298d66cf32ee47976f"
       ],
       "layout": "IPY_MODEL_672ed90d2371434abb35e002cdef28f5"
      }
     },
     "a21ed21eb97a41c89651cf6e5217c216": {
      "model_module": "@jupyter-widgets/controls",
      "model_module_version": "1.5.0",
      "model_name": "ProgressStyleModel",
      "state": {
       "_model_module": "@jupyter-widgets/controls",
       "_model_module_version": "1.5.0",
       "_model_name": "ProgressStyleModel",
       "_view_count": null,
       "_view_module": "@jupyter-widgets/base",
       "_view_module_version": "1.2.0",
       "_view_name": "StyleView",
       "bar_color": null,
       "description_width": "initial"
      }
     },
     "ab0ac8e1cf6b482b840562348c927e41": {
      "model_module": "@jupyter-widgets/base",
      "model_module_version": "1.2.0",
      "model_name": "LayoutModel",
      "state": {
       "_model_module": "@jupyter-widgets/base",
       "_model_module_version": "1.2.0",
       "_model_name": "LayoutModel",
       "_view_count": null,
       "_view_module": "@jupyter-widgets/base",
       "_view_module_version": "1.2.0",
       "_view_name": "LayoutView",
       "align_content": null,
       "align_items": null,
       "align_self": null,
       "border": null,
       "bottom": null,
       "display": null,
       "flex": null,
       "flex_flow": null,
       "grid_area": null,
       "grid_auto_columns": null,
       "grid_auto_flow": null,
       "grid_auto_rows": null,
       "grid_column": null,
       "grid_gap": null,
       "grid_row": null,
       "grid_template_areas": null,
       "grid_template_columns": null,
       "grid_template_rows": null,
       "height": null,
       "justify_content": null,
       "justify_items": null,
       "left": null,
       "margin": null,
       "max_height": null,
       "max_width": null,
       "min_height": null,
       "min_width": null,
       "object_fit": null,
       "object_position": null,
       "order": null,
       "overflow": null,
       "overflow_x": null,
       "overflow_y": null,
       "padding": null,
       "right": null,
       "top": null,
       "visibility": null,
       "width": null
      }
     },
     "b322fc1cfacf4d5ea2f52680fc47dfc0": {
      "model_module": "@jupyter-widgets/controls",
      "model_module_version": "1.5.0",
      "model_name": "HBoxModel",
      "state": {
       "_dom_classes": [],
       "_model_module": "@jupyter-widgets/controls",
       "_model_module_version": "1.5.0",
       "_model_name": "HBoxModel",
       "_view_count": null,
       "_view_module": "@jupyter-widgets/controls",
       "_view_module_version": "1.5.0",
       "_view_name": "HBoxView",
       "box_style": "",
       "children": [
        "IPY_MODEL_178c5d5bf914432ea07ac8df01755b7d",
        "IPY_MODEL_78d171b22ae14e5084fcb0da745573c6"
       ],
       "layout": "IPY_MODEL_8f57fa965d6b404c84ae131500679ac2"
      }
     },
     "b9e74d0bdc8f44fda509fa6921b58908": {
      "model_module": "@jupyter-widgets/base",
      "model_module_version": "1.2.0",
      "model_name": "LayoutModel",
      "state": {
       "_model_module": "@jupyter-widgets/base",
       "_model_module_version": "1.2.0",
       "_model_name": "LayoutModel",
       "_view_count": null,
       "_view_module": "@jupyter-widgets/base",
       "_view_module_version": "1.2.0",
       "_view_name": "LayoutView",
       "align_content": null,
       "align_items": null,
       "align_self": null,
       "border": null,
       "bottom": null,
       "display": null,
       "flex": null,
       "flex_flow": null,
       "grid_area": null,
       "grid_auto_columns": null,
       "grid_auto_flow": null,
       "grid_auto_rows": null,
       "grid_column": null,
       "grid_gap": null,
       "grid_row": null,
       "grid_template_areas": null,
       "grid_template_columns": null,
       "grid_template_rows": null,
       "height": null,
       "justify_content": null,
       "justify_items": null,
       "left": null,
       "margin": null,
       "max_height": null,
       "max_width": null,
       "min_height": null,
       "min_width": null,
       "object_fit": null,
       "object_position": null,
       "order": null,
       "overflow": null,
       "overflow_x": null,
       "overflow_y": null,
       "padding": null,
       "right": null,
       "top": null,
       "visibility": null,
       "width": null
      }
     },
     "bf44d028fdd140178cccb0de2bff4504": {
      "model_module": "@jupyter-widgets/base",
      "model_module_version": "1.2.0",
      "model_name": "LayoutModel",
      "state": {
       "_model_module": "@jupyter-widgets/base",
       "_model_module_version": "1.2.0",
       "_model_name": "LayoutModel",
       "_view_count": null,
       "_view_module": "@jupyter-widgets/base",
       "_view_module_version": "1.2.0",
       "_view_name": "LayoutView",
       "align_content": null,
       "align_items": null,
       "align_self": null,
       "border": null,
       "bottom": null,
       "display": null,
       "flex": null,
       "flex_flow": null,
       "grid_area": null,
       "grid_auto_columns": null,
       "grid_auto_flow": null,
       "grid_auto_rows": null,
       "grid_column": null,
       "grid_gap": null,
       "grid_row": null,
       "grid_template_areas": null,
       "grid_template_columns": null,
       "grid_template_rows": null,
       "height": null,
       "justify_content": null,
       "justify_items": null,
       "left": null,
       "margin": null,
       "max_height": null,
       "max_width": null,
       "min_height": null,
       "min_width": null,
       "object_fit": null,
       "object_position": null,
       "order": null,
       "overflow": null,
       "overflow_x": null,
       "overflow_y": null,
       "padding": null,
       "right": null,
       "top": null,
       "visibility": null,
       "width": null
      }
     },
     "c23d9d74962b4f579ee78ffc8a521899": {
      "model_module": "@jupyter-widgets/controls",
      "model_module_version": "1.5.0",
      "model_name": "FloatProgressModel",
      "state": {
       "_dom_classes": [],
       "_model_module": "@jupyter-widgets/controls",
       "_model_module_version": "1.5.0",
       "_model_name": "FloatProgressModel",
       "_view_count": null,
       "_view_module": "@jupyter-widgets/controls",
       "_view_module_version": "1.5.0",
       "_view_name": "ProgressView",
       "bar_style": "success",
       "description": "Downloading: 100%",
       "description_tooltip": null,
       "layout": "IPY_MODEL_b9e74d0bdc8f44fda509fa6921b58908",
       "max": 231508.0,
       "min": 0.0,
       "orientation": "horizontal",
       "style": "IPY_MODEL_65d02990bcb84f4f90e080f375d2778d",
       "value": 231508.0
      }
     },
     "d55d819d0fc542298d66cf32ee47976f": {
      "model_module": "@jupyter-widgets/controls",
      "model_module_version": "1.5.0",
      "model_name": "HTMLModel",
      "state": {
       "_dom_classes": [],
       "_model_module": "@jupyter-widgets/controls",
       "_model_module_version": "1.5.0",
       "_model_name": "HTMLModel",
       "_view_count": null,
       "_view_module": "@jupyter-widgets/controls",
       "_view_module_version": "1.5.0",
       "_view_name": "HTMLView",
       "description": "",
       "description_tooltip": null,
       "layout": "IPY_MODEL_bf44d028fdd140178cccb0de2bff4504",
       "placeholder": "​",
       "style": "IPY_MODEL_75810592d06a49d1aeac2187c9aac566",
       "value": " 232k/232k [00:00&lt;00:00, 318kB/s]"
      }
     },
     "f433c28f6a4248bdbd49c2ed66f19319": {
      "model_module": "@jupyter-widgets/controls",
      "model_module_version": "1.5.0",
      "model_name": "DescriptionStyleModel",
      "state": {
       "_model_module": "@jupyter-widgets/controls",
       "_model_module_version": "1.5.0",
       "_model_name": "DescriptionStyleModel",
       "_view_count": null,
       "_view_module": "@jupyter-widgets/base",
       "_view_module_version": "1.2.0",
       "_view_name": "StyleView",
       "description_width": ""
      }
     },
     "f59ef5c2a2694747a6a4e55c749d6a39": {
      "model_module": "@jupyter-widgets/controls",
      "model_module_version": "1.5.0",
      "model_name": "DescriptionStyleModel",
      "state": {
       "_model_module": "@jupyter-widgets/controls",
       "_model_module_version": "1.5.0",
       "_model_name": "DescriptionStyleModel",
       "_view_count": null,
       "_view_module": "@jupyter-widgets/base",
       "_view_module_version": "1.2.0",
       "_view_name": "StyleView",
       "description_width": ""
      }
     },
     "f99a91e6977841d8a3a9df8812172d5c": {
      "model_module": "@jupyter-widgets/base",
      "model_module_version": "1.2.0",
      "model_name": "LayoutModel",
      "state": {
       "_model_module": "@jupyter-widgets/base",
       "_model_module_version": "1.2.0",
       "_model_name": "LayoutModel",
       "_view_count": null,
       "_view_module": "@jupyter-widgets/base",
       "_view_module_version": "1.2.0",
       "_view_name": "LayoutView",
       "align_content": null,
       "align_items": null,
       "align_self": null,
       "border": null,
       "bottom": null,
       "display": null,
       "flex": null,
       "flex_flow": null,
       "grid_area": null,
       "grid_auto_columns": null,
       "grid_auto_flow": null,
       "grid_auto_rows": null,
       "grid_column": null,
       "grid_gap": null,
       "grid_row": null,
       "grid_template_areas": null,
       "grid_template_columns": null,
       "grid_template_rows": null,
       "height": null,
       "justify_content": null,
       "justify_items": null,
       "left": null,
       "margin": null,
       "max_height": null,
       "max_width": null,
       "min_height": null,
       "min_width": null,
       "object_fit": null,
       "object_position": null,
       "order": null,
       "overflow": null,
       "overflow_x": null,
       "overflow_y": null,
       "padding": null,
       "right": null,
       "top": null,
       "visibility": null,
       "width": null
      }
     },
     "fddd938428bf4987bd351071cc8b660b": {
      "model_module": "@jupyter-widgets/controls",
      "model_module_version": "1.5.0",
      "model_name": "FloatProgressModel",
      "state": {
       "_dom_classes": [],
       "_model_module": "@jupyter-widgets/controls",
       "_model_module_version": "1.5.0",
       "_model_name": "FloatProgressModel",
       "_view_count": null,
       "_view_module": "@jupyter-widgets/controls",
       "_view_module_version": "1.5.0",
       "_view_name": "ProgressView",
       "bar_style": "success",
       "description": "Downloading: 100%",
       "description_tooltip": null,
       "layout": "IPY_MODEL_02e4c188db34496fb95a9466621096aa",
       "max": 267967963.0,
       "min": 0.0,
       "orientation": "horizontal",
       "style": "IPY_MODEL_fed63793ad654ce4b60e843d9afb2d1c",
       "value": 267967963.0
      }
     },
     "fed63793ad654ce4b60e843d9afb2d1c": {
      "model_module": "@jupyter-widgets/controls",
      "model_module_version": "1.5.0",
      "model_name": "ProgressStyleModel",
      "state": {
       "_model_module": "@jupyter-widgets/controls",
       "_model_module_version": "1.5.0",
       "_model_name": "ProgressStyleModel",
       "_view_count": null,
       "_view_module": "@jupyter-widgets/base",
       "_view_module_version": "1.2.0",
       "_view_name": "StyleView",
       "bar_color": null,
       "description_width": "initial"
      }
     }
    },
    "version_major": 2,
    "version_minor": 0
   }
  }
 },
 "nbformat": 4,
 "nbformat_minor": 4
}
